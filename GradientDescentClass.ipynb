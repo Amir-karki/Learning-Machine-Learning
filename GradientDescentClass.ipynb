{
 "cells": [
  {
   "cell_type": "code",
   "execution_count": 232,
   "id": "f24ea371-30af-4688-b5ac-6c07ca221978",
   "metadata": {},
   "outputs": [],
   "source": [
    "from sklearn.model_selection import train_test_split\n",
    "from sklearn.metrics import r2_score\n",
    "from sklearn.datasets import make_regression\n",
    "from sklearn.linear_model import LinearRegression\n",
    "import matplotlib.pyplot as plt\n",
    "import numpy as np"
   ]
  },
  {
   "cell_type": "code",
   "execution_count": 19,
   "id": "2529d03a-d871-4da4-85d9-2ad5aed41e96",
   "metadata": {},
   "outputs": [],
   "source": [
    "X, y = make_regression(n_samples=100, n_features=1, n_informative=1, n_targets=1, noise=40, random_state=20)"
   ]
  },
  {
   "cell_type": "code",
   "execution_count": 234,
   "id": "dc1eea9c-e555-4f9d-8cfa-e0de1d233a7b",
   "metadata": {},
   "outputs": [],
   "source": [
    "X_train, X_test, y_train, y_test = train_test_split(X, y, test_size=0.2, random_state=42)"
   ]
  },
  {
   "cell_type": "code",
   "execution_count": 236,
   "id": "d89d26ff-0990-4e95-a939-bbe13d1c851d",
   "metadata": {},
   "outputs": [
    {
     "data": {
      "text/plain": [
       "<matplotlib.collections.PathCollection at 0x2895f5b87d0>"
      ]
     },
     "execution_count": 236,
     "metadata": {},
     "output_type": "execute_result"
    },
    {
     "data": {
      "image/png": "[encoded data removed]",
      "text/plain": [
       "<Figure size 640x480 with 1 Axes>"
      ]
     },
     "metadata": {},
     "output_type": "display_data"
    }
   ],
   "source": [
    "plt.scatter(X_train, y_train)"
   ]
  },
  {
   "cell_type": "code",
   "execution_count": 246,
   "id": "5d07de1b-d116-44c0-ba8e-1a00c9ec9139",
   "metadata": {},
   "outputs": [],
   "source": [
    "# finding the actual slope and intercepts by fitting the data into Linear Regression\n",
    "lr = LinearRegression()\n",
    "lr.fit(X_train, y_train)\n",
    "pred = lr.predict(X_test)"
   ]
  },
  {
   "cell_type": "code",
   "execution_count": 248,
   "id": "c270e8a9-eb33-478d-adde-82df833add00",
   "metadata": {},
   "outputs": [
    {
     "data": {
      "text/plain": [
       "array([95.97703309])"
      ]
     },
     "execution_count": 248,
     "metadata": {},
     "output_type": "execute_result"
    }
   ],
   "source": [
    "lr.coef_"
   ]
  },
  {
   "cell_type": "code",
   "execution_count": 250,
   "id": "bcfc3a64-407d-4f75-b281-8bc9b44f37fc",
   "metadata": {},
   "outputs": [
    {
     "data": {
      "text/plain": [
       "6.1886002024989555"
      ]
     },
     "execution_count": 250,
     "metadata": {},
     "output_type": "execute_result"
    }
   ],
   "source": [
    "lr.intercept_"
   ]
  },
  {
   "cell_type": "code",
   "execution_count": 252,
   "id": "c268a3ee-56ca-48f5-b162-aa1759b49a60",
   "metadata": {},
   "outputs": [
    {
     "data": {
      "text/plain": [
       "0.8024149176047709"
      ]
     },
     "execution_count": 252,
     "metadata": {},
     "output_type": "execute_result"
    }
   ],
   "source": [
    "r2_score(y_test, pred)"
   ]
  },
  {
   "cell_type": "code",
   "execution_count": 29,
   "id": "a3461b71-a238-4917-801e-09daa685e3f2",
   "metadata": {},
   "outputs": [],
   "source": [
    "m = 96.20\n",
    "# b = 4.58"
   ]
  },
  {
   "cell_type": "code",
   "execution_count": 381,
   "id": "945113c6-8922-499e-8866-cfb6e2c9cea0",
   "metadata": {},
   "outputs": [],
   "source": [
    "class SGDRegressor:\n",
    "    def __init__(self, learning_rate, epochs):\n",
    "        self.m = m\n",
    "        self.b = -100\n",
    "        self.learning_rate = learning_rate\n",
    "        self.epochs = epochs\n",
    "\n",
    "    def fit(self,X,y):\n",
    "        # calcualte the b using GD\n",
    "        for i in range(self.epochs):\n",
    "            loss_slope_b = -2 * np.sum(y - self.m*X.ravel() - self.b)\n",
    "            loss_slope_m = -2 * np.sum((y - self.m*X.ravel() - self.b)*X.ravel())\n",
    "            \n",
    "            self.b = self.b - (self.learning_rate * loss_slope_b)\n",
    "            self.m = self.m - (self.learning_rate * loss_slope_m)\n",
    "        print(self.m,self.b)\n",
    "\n",
    "    def predict(self, X):\n",
    "        return self.m * X + self.b"
   ]
  },
  {
   "cell_type": "code",
   "execution_count": 383,
   "id": "1d574757-e341-4a86-89d1-f31242a7ecfe",
   "metadata": {},
   "outputs": [
    {
     "name": "stdout",
     "output_type": "stream",
     "text": [
      "95.9770331582418 6.188597354590854\n"
     ]
    }
   ],
   "source": [
    "sgd = SGDRegressor(0.001, 100)\n",
    "sgd.fit(X_train, y_train)"
   ]
  },
  {
   "cell_type": "markdown",
   "id": "a43fdf18-1887-4326-aae7-821449584490",
   "metadata": {},
   "source": [
    "Now as you may see, we are getting closer to our original value of intercept."
   ]
  },
  {
   "cell_type": "code",
   "execution_count": 387,
   "id": "6898132a-675c-49fa-86f1-ba80db7036ce",
   "metadata": {},
   "outputs": [
    {
     "data": {
      "text/plain": [
       "array([[  29.77161033],\n",
       "       [   1.9469115 ],\n",
       "       [  40.68552583],\n",
       "       [-132.19575109],\n",
       "       [  88.44991904],\n",
       "       [  68.28900906],\n",
       "       [  40.50389139],\n",
       "       [-218.71072826],\n",
       "       [ -41.16751522],\n",
       "       [-150.20612388],\n",
       "       [   9.85419719],\n",
       "       [-176.30828099],\n",
       "       [ -78.79840851],\n",
       "       [  36.99442097],\n",
       "       [  -6.29136454],\n",
       "       [  59.38626098],\n",
       "       [ -84.99131269],\n",
       "       [ 148.34437024],\n",
       "       [  72.5089306 ],\n",
       "       [-136.40636276]])"
      ]
     },
     "execution_count": 387,
     "metadata": {},
     "output_type": "execute_result"
    }
   ],
   "source": [
    "pred1 = sgd.predict(X_test)\n",
    "pred1"
   ]
  },
  {
   "cell_type": "code",
   "execution_count": 389,
   "id": "d3174f6f-6c73-4fe6-9b52-5a810a307e69",
   "metadata": {},
   "outputs": [
    {
     "data": {
      "text/plain": [
       "array([  55.88607047,   36.357344  ,   48.9291004 , -145.87792758,\n",
       "         50.03644194,  118.3690825 ,    7.40118333, -235.01183974,\n",
       "        -11.19610732, -163.56659402,   22.26273604, -182.14685658,\n",
       "       -128.78892442,   72.20465423,   52.07516535,   -6.72958587,\n",
       "       -149.55433603,  161.66506197,  -74.51757772, -118.00001758])"
      ]
     },
     "execution_count": 389,
     "metadata": {},
     "output_type": "execute_result"
    }
   ],
   "source": [
    "y_test"
   ]
  },
  {
   "cell_type": "code",
   "execution_count": null,
   "id": "c04e6e23-970b-4a8c-b3a6-6aee8435df6b",
   "metadata": {},
   "outputs": [],
   "source": [
    "r2_score()"
   ]
  },
  {
   "cell_type": "code",
   "execution_count": null,
   "id": "f5323f71-ed07-455d-8903-630b5dda4243",
   "metadata": {},
   "outputs": [],
   "source": []
  }
 ],
 "metadata": {
  "kernelspec": {
   "display_name": "Python 3 (ipykernel)",
   "language": "python",
   "name": "python3"
  },
  "language_info": {
   "codemirror_mode": {
    "name": "ipython",
    "version": 3
   },
   "file_extension": ".py",
   "mimetype": "text/x-python",
   "name": "python",
   "nbconvert_exporter": "python",
   "pygments_lexer": "ipython3",
   "version": "3.12.4"
  }
 },
 "nbformat": 4,
 "nbformat_minor": 5
}
