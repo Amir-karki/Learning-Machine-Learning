{
 "cells": [
  {
   "cell_type": "markdown",
   "id": "79611d88-c05d-4eb3-99c1-92d72d8b3698",
   "metadata": {},
   "source": [
    "<h4 style='color:green' >Handlling Date and Time</h4>"
   ]
  },
  {
   "cell_type": "markdown",
   "id": "91ded705-0112-48c2-a09a-09c5f21fdcc8",
   "metadata": {},
   "source": [
    "Most datasets have dtypes set to object for date and time. Having that, we cannot extract information like which day it is? what Decade? which quarter etc?\n",
    "so handling date and time is essential. To begin with, first thing we have to do is to change its datatype to datetime."
   ]
  },
  {
   "cell_type": "code",
   "execution_count": 362,
   "id": "7f528c23-c9f8-4ad3-b09a-b2ffd3a39f49",
   "metadata": {},
   "outputs": [],
   "source": [
    "import numpy as np\n",
    "import pandas as pd"
   ]
  },
  {
   "cell_type": "code",
   "execution_count": 363,
   "id": "05db56ed-1822-4412-96e5-bc3ca2f0e6dd",
   "metadata": {},
   "outputs": [],
   "source": [
    "date = pd.read_csv('orders.csv')\n",
    "time = pd.read_csv('messages.csv')"
   ]
  },
  {
   "cell_type": "markdown",
   "id": "493d8f1c-34e6-4ea1-bbd1-3d4053ce453f",
   "metadata": {},
   "source": [
    "<h5>Working with Date</h5>"
   ]
  },
  {
   "cell_type": "code",
   "execution_count": 365,
   "id": "291b26cd-1e7d-485d-a279-9f55df86cb8d",
   "metadata": {},
   "outputs": [
    {
     "data": {
      "text/html": [
       "<div>\n",
       "<style scoped>\n",
       "    .dataframe tbody tr th:only-of-type {\n",
       "        vertical-align: middle;\n",
       "    }\n",
       "\n",
       "    .dataframe tbody tr th {\n",
       "        vertical-align: top;\n",
       "    }\n",
       "\n",
       "    .dataframe thead th {\n",
       "        text-align: right;\n",
       "    }\n",
       "</style>\n",
       "<table border=\"1\" class=\"dataframe\">\n",
       "  <thead>\n",
       "    <tr style=\"text-align: right;\">\n",
       "      <th></th>\n",
       "      <th>date</th>\n",
       "      <th>product_id</th>\n",
       "      <th>city_id</th>\n",
       "      <th>orders</th>\n",
       "    </tr>\n",
       "  </thead>\n",
       "  <tbody>\n",
       "    <tr>\n",
       "      <th>0</th>\n",
       "      <td>2019-12-10</td>\n",
       "      <td>5628</td>\n",
       "      <td>25</td>\n",
       "      <td>3</td>\n",
       "    </tr>\n",
       "    <tr>\n",
       "      <th>1</th>\n",
       "      <td>2018-08-15</td>\n",
       "      <td>3646</td>\n",
       "      <td>14</td>\n",
       "      <td>157</td>\n",
       "    </tr>\n",
       "    <tr>\n",
       "      <th>2</th>\n",
       "      <td>2018-10-23</td>\n",
       "      <td>1859</td>\n",
       "      <td>25</td>\n",
       "      <td>1</td>\n",
       "    </tr>\n",
       "    <tr>\n",
       "      <th>3</th>\n",
       "      <td>2019-08-17</td>\n",
       "      <td>7292</td>\n",
       "      <td>25</td>\n",
       "      <td>1</td>\n",
       "    </tr>\n",
       "    <tr>\n",
       "      <th>4</th>\n",
       "      <td>2019-01-06</td>\n",
       "      <td>4344</td>\n",
       "      <td>25</td>\n",
       "      <td>3</td>\n",
       "    </tr>\n",
       "  </tbody>\n",
       "</table>\n",
       "</div>"
      ],
      "text/plain": [
       "         date  product_id  city_id  orders\n",
       "0  2019-12-10        5628       25       3\n",
       "1  2018-08-15        3646       14     157\n",
       "2  2018-10-23        1859       25       1\n",
       "3  2019-08-17        7292       25       1\n",
       "4  2019-01-06        4344       25       3"
      ]
     },
     "execution_count": 365,
     "metadata": {},
     "output_type": "execute_result"
    }
   ],
   "source": [
    "date.head()"
   ]
  },
  {
   "cell_type": "code",
   "execution_count": 366,
   "id": "15802a41-3850-4a44-9132-5c130b95eb3a",
   "metadata": {},
   "outputs": [
    {
     "name": "stdout",
     "output_type": "stream",
     "text": [
      "<class 'pandas.core.frame.DataFrame'>\n",
      "RangeIndex: 1000 entries, 0 to 999\n",
      "Data columns (total 4 columns):\n",
      " #   Column      Non-Null Count  Dtype \n",
      "---  ------      --------------  ----- \n",
      " 0   date        1000 non-null   object\n",
      " 1   product_id  1000 non-null   int64 \n",
      " 2   city_id     1000 non-null   int64 \n",
      " 3   orders      1000 non-null   int64 \n",
      "dtypes: int64(3), object(1)\n",
      "memory usage: 31.4+ KB\n"
     ]
    }
   ],
   "source": [
    "date.info()"
   ]
  },
  {
   "cell_type": "code",
   "execution_count": 367,
   "id": "d0cfbd24-f7c2-45cb-b8b7-b2a095f8baf1",
   "metadata": {},
   "outputs": [],
   "source": [
    "date.drop(columns=['product_id', 'city_id', 'orders'], inplace=True)"
   ]
  },
  {
   "cell_type": "code",
   "execution_count": 368,
   "id": "250a1b91-7923-42d3-99cc-4dddad356577",
   "metadata": {},
   "outputs": [],
   "source": [
    "date['date'] = pd.to_datetime(date['date'], errors='coerce')  # setting errors='coerce' results any invalid parsing as :const:`NaT`."
   ]
  },
  {
   "cell_type": "code",
   "execution_count": 369,
   "id": "7dc3d3f9-23e9-44c7-be0e-f92fd6814bc1",
   "metadata": {},
   "outputs": [
    {
     "data": {
      "text/html": [
       "<div>\n",
       "<style scoped>\n",
       "    .dataframe tbody tr th:only-of-type {\n",
       "        vertical-align: middle;\n",
       "    }\n",
       "\n",
       "    .dataframe tbody tr th {\n",
       "        vertical-align: top;\n",
       "    }\n",
       "\n",
       "    .dataframe thead th {\n",
       "        text-align: right;\n",
       "    }\n",
       "</style>\n",
       "<table border=\"1\" class=\"dataframe\">\n",
       "  <thead>\n",
       "    <tr style=\"text-align: right;\">\n",
       "      <th></th>\n",
       "      <th>date</th>\n",
       "    </tr>\n",
       "  </thead>\n",
       "  <tbody>\n",
       "    <tr>\n",
       "      <th>0</th>\n",
       "      <td>2019-12-10</td>\n",
       "    </tr>\n",
       "    <tr>\n",
       "      <th>1</th>\n",
       "      <td>2018-08-15</td>\n",
       "    </tr>\n",
       "    <tr>\n",
       "      <th>2</th>\n",
       "      <td>2018-10-23</td>\n",
       "    </tr>\n",
       "    <tr>\n",
       "      <th>3</th>\n",
       "      <td>2019-08-17</td>\n",
       "    </tr>\n",
       "    <tr>\n",
       "      <th>4</th>\n",
       "      <td>2019-01-06</td>\n",
       "    </tr>\n",
       "  </tbody>\n",
       "</table>\n",
       "</div>"
      ],
      "text/plain": [
       "        date\n",
       "0 2019-12-10\n",
       "1 2018-08-15\n",
       "2 2018-10-23\n",
       "3 2019-08-17\n",
       "4 2019-01-06"
      ]
     },
     "execution_count": 369,
     "metadata": {},
     "output_type": "execute_result"
    }
   ],
   "source": [
    "date.head()"
   ]
  },
  {
   "cell_type": "code",
   "execution_count": 370,
   "id": "8b4a085f-4702-48e0-b6ad-42e4d883b177",
   "metadata": {},
   "outputs": [
    {
     "name": "stdout",
     "output_type": "stream",
     "text": [
      "<class 'pandas.core.frame.DataFrame'>\n",
      "RangeIndex: 1000 entries, 0 to 999\n",
      "Data columns (total 1 columns):\n",
      " #   Column  Non-Null Count  Dtype         \n",
      "---  ------  --------------  -----         \n",
      " 0   date    1000 non-null   datetime64[ns]\n",
      "dtypes: datetime64[ns](1)\n",
      "memory usage: 7.9 KB\n"
     ]
    }
   ],
   "source": [
    "date.info()"
   ]
  },
  {
   "cell_type": "code",
   "execution_count": 371,
   "id": "24175c67-7fbb-44d9-9503-89ca1ba4e75d",
   "metadata": {},
   "outputs": [],
   "source": [
    "# extract day of the week\n",
    "date['day_of_week'] = date['date'].dt.dayofweek"
   ]
  },
  {
   "cell_type": "code",
   "execution_count": 372,
   "id": "4409688a-0a0f-4698-82f4-87d37d14cbd4",
   "metadata": {},
   "outputs": [],
   "source": [
    "# extract the names for each day\n",
    "date['day_name'] = date['date'].dt.day_name()"
   ]
  },
  {
   "cell_type": "code",
   "execution_count": 373,
   "id": "42c6739b-6d3c-4fb0-a151-99f9edb39f65",
   "metadata": {},
   "outputs": [],
   "source": [
    "# extract month number\n",
    "date['month_no'] = date['date'].dt.month"
   ]
  },
  {
   "cell_type": "code",
   "execution_count": 374,
   "id": "364d5fc2-644a-4e54-9aed-4461371008ff",
   "metadata": {},
   "outputs": [],
   "source": [
    "# extract the name of month\n",
    "date['month_names'] = date['date'].dt.month_name()"
   ]
  },
  {
   "cell_type": "code",
   "execution_count": 375,
   "id": "3c39b0bd-0c78-4b89-a4ba-cd7fea2cc8e4",
   "metadata": {},
   "outputs": [],
   "source": [
    "# extract the year\n",
    "date['year'] = date['date'].dt.year"
   ]
  },
  {
   "cell_type": "code",
   "execution_count": 376,
   "id": "a3e5c867-1ce6-4897-9ca1-ebacbefea0b9",
   "metadata": {},
   "outputs": [],
   "source": [
    "# extract quarter\n",
    "date['quarter'] = date['date'].dt.quarter"
   ]
  },
  {
   "cell_type": "code",
   "execution_count": 377,
   "id": "29875e50-d29c-4650-a017-c9672b75b5e5",
   "metadata": {},
   "outputs": [],
   "source": [
    "# Check if the day is weekend\n",
    "date['is_weekend'] = np.where(date['day_name'].isin(['Sunday', 'Saturday']), True, False)"
   ]
  },
  {
   "cell_type": "code",
   "execution_count": 378,
   "id": "48a8b776-2427-47ff-bf33-d4290e472cc4",
   "metadata": {},
   "outputs": [],
   "source": [
    "# Check the semester of the year\n",
    "date['semester'] = np.where(date['quarter'].isin([1, 2]), 1, 2)"
   ]
  },
  {
   "cell_type": "code",
   "execution_count": 379,
   "id": "c648eadc-d672-488b-a206-83cb55427708",
   "metadata": {},
   "outputs": [
    {
     "data": {
      "text/html": [
       "<div>\n",
       "<style scoped>\n",
       "    .dataframe tbody tr th:only-of-type {\n",
       "        vertical-align: middle;\n",
       "    }\n",
       "\n",
       "    .dataframe tbody tr th {\n",
       "        vertical-align: top;\n",
       "    }\n",
       "\n",
       "    .dataframe thead th {\n",
       "        text-align: right;\n",
       "    }\n",
       "</style>\n",
       "<table border=\"1\" class=\"dataframe\">\n",
       "  <thead>\n",
       "    <tr style=\"text-align: right;\">\n",
       "      <th></th>\n",
       "      <th>date</th>\n",
       "      <th>day_of_week</th>\n",
       "      <th>day_name</th>\n",
       "      <th>month_no</th>\n",
       "      <th>month_names</th>\n",
       "      <th>year</th>\n",
       "      <th>quarter</th>\n",
       "      <th>is_weekend</th>\n",
       "      <th>semester</th>\n",
       "    </tr>\n",
       "  </thead>\n",
       "  <tbody>\n",
       "    <tr>\n",
       "      <th>0</th>\n",
       "      <td>2019-12-10</td>\n",
       "      <td>1</td>\n",
       "      <td>Tuesday</td>\n",
       "      <td>12</td>\n",
       "      <td>December</td>\n",
       "      <td>2019</td>\n",
       "      <td>4</td>\n",
       "      <td>False</td>\n",
       "      <td>2</td>\n",
       "    </tr>\n",
       "    <tr>\n",
       "      <th>1</th>\n",
       "      <td>2018-08-15</td>\n",
       "      <td>2</td>\n",
       "      <td>Wednesday</td>\n",
       "      <td>8</td>\n",
       "      <td>August</td>\n",
       "      <td>2018</td>\n",
       "      <td>3</td>\n",
       "      <td>False</td>\n",
       "      <td>2</td>\n",
       "    </tr>\n",
       "    <tr>\n",
       "      <th>2</th>\n",
       "      <td>2018-10-23</td>\n",
       "      <td>1</td>\n",
       "      <td>Tuesday</td>\n",
       "      <td>10</td>\n",
       "      <td>October</td>\n",
       "      <td>2018</td>\n",
       "      <td>4</td>\n",
       "      <td>False</td>\n",
       "      <td>2</td>\n",
       "    </tr>\n",
       "    <tr>\n",
       "      <th>3</th>\n",
       "      <td>2019-08-17</td>\n",
       "      <td>5</td>\n",
       "      <td>Saturday</td>\n",
       "      <td>8</td>\n",
       "      <td>August</td>\n",
       "      <td>2019</td>\n",
       "      <td>3</td>\n",
       "      <td>True</td>\n",
       "      <td>2</td>\n",
       "    </tr>\n",
       "    <tr>\n",
       "      <th>4</th>\n",
       "      <td>2019-01-06</td>\n",
       "      <td>6</td>\n",
       "      <td>Sunday</td>\n",
       "      <td>1</td>\n",
       "      <td>January</td>\n",
       "      <td>2019</td>\n",
       "      <td>1</td>\n",
       "      <td>True</td>\n",
       "      <td>1</td>\n",
       "    </tr>\n",
       "  </tbody>\n",
       "</table>\n",
       "</div>"
      ],
      "text/plain": [
       "        date  day_of_week   day_name  month_no month_names  year  quarter  \\\n",
       "0 2019-12-10            1    Tuesday        12    December  2019        4   \n",
       "1 2018-08-15            2  Wednesday         8      August  2018        3   \n",
       "2 2018-10-23            1    Tuesday        10     October  2018        4   \n",
       "3 2019-08-17            5   Saturday         8      August  2019        3   \n",
       "4 2019-01-06            6     Sunday         1     January  2019        1   \n",
       "\n",
       "   is_weekend  semester  \n",
       "0       False         2  \n",
       "1       False         2  \n",
       "2       False         2  \n",
       "3        True         2  \n",
       "4        True         1  "
      ]
     },
     "execution_count": 379,
     "metadata": {},
     "output_type": "execute_result"
    }
   ],
   "source": [
    "date.head()"
   ]
  },
  {
   "cell_type": "markdown",
   "id": "40c7d891-a8b1-4da0-9f49-a943aed25521",
   "metadata": {},
   "source": [
    "<h5>Calculating date differences</h5>"
   ]
  },
  {
   "cell_type": "code",
   "execution_count": 381,
   "id": "f3990d88-31c5-4ab0-a83b-cb1ccfab0625",
   "metadata": {},
   "outputs": [],
   "source": [
    "import datetime\n",
    "today = datetime.datetime.today()"
   ]
  },
  {
   "cell_type": "code",
   "execution_count": 382,
   "id": "57642b4b-020b-4e14-872b-2a61bb87dd4f",
   "metadata": {},
   "outputs": [
    {
     "data": {
      "text/plain": [
       "0     1862 days 01:44:46.240714\n",
       "1     2344 days 01:44:46.240714\n",
       "2     2275 days 01:44:46.240714\n",
       "3     1977 days 01:44:46.240714\n",
       "4     2200 days 01:44:46.240714\n",
       "                 ...           \n",
       "995   2290 days 01:44:46.240714\n",
       "996   2231 days 01:44:46.240714\n",
       "997   2079 days 01:44:46.240714\n",
       "998   2144 days 01:44:46.240714\n",
       "999   1918 days 01:44:46.240714\n",
       "Name: date, Length: 1000, dtype: timedelta64[ns]"
      ]
     },
     "execution_count": 382,
     "metadata": {},
     "output_type": "execute_result"
    }
   ],
   "source": [
    "today - date['date']"
   ]
  },
  {
   "cell_type": "code",
   "execution_count": 383,
   "id": "e0e2bf25-c7bd-487e-8ef5-9570cf6178ba",
   "metadata": {},
   "outputs": [],
   "source": [
    "total_days_passed = (today - date['date']).dt.days\n",
    "total_month_passed = ((today.year - date['year']) * 12) + (today.month - date['month_no'])\n",
    "total_year_passed = np.round(total_month_passed / 12)"
   ]
  },
  {
   "cell_type": "code",
   "execution_count": 384,
   "id": "099357a1-5bf4-4c1c-a138-71e26c7e1df4",
   "metadata": {},
   "outputs": [
    {
     "name": "stdout",
     "output_type": "stream",
     "text": [
      "Date passed since last order\n"
     ]
    },
    {
     "data": {
      "text/html": [
       "<div>\n",
       "<style scoped>\n",
       "    .dataframe tbody tr th:only-of-type {\n",
       "        vertical-align: middle;\n",
       "    }\n",
       "\n",
       "    .dataframe tbody tr th {\n",
       "        vertical-align: top;\n",
       "    }\n",
       "\n",
       "    .dataframe thead th {\n",
       "        text-align: right;\n",
       "    }\n",
       "</style>\n",
       "<table border=\"1\" class=\"dataframe\">\n",
       "  <thead>\n",
       "    <tr style=\"text-align: right;\">\n",
       "      <th></th>\n",
       "      <th>Days_Passed</th>\n",
       "      <th>Months_Passed</th>\n",
       "      <th>Years_passed</th>\n",
       "    </tr>\n",
       "  </thead>\n",
       "  <tbody>\n",
       "    <tr>\n",
       "      <th>0</th>\n",
       "      <td>1862</td>\n",
       "      <td>61</td>\n",
       "      <td>5.0</td>\n",
       "    </tr>\n",
       "    <tr>\n",
       "      <th>1</th>\n",
       "      <td>2344</td>\n",
       "      <td>77</td>\n",
       "      <td>6.0</td>\n",
       "    </tr>\n",
       "    <tr>\n",
       "      <th>2</th>\n",
       "      <td>2275</td>\n",
       "      <td>75</td>\n",
       "      <td>6.0</td>\n",
       "    </tr>\n",
       "    <tr>\n",
       "      <th>3</th>\n",
       "      <td>1977</td>\n",
       "      <td>65</td>\n",
       "      <td>5.0</td>\n",
       "    </tr>\n",
       "    <tr>\n",
       "      <th>4</th>\n",
       "      <td>2200</td>\n",
       "      <td>72</td>\n",
       "      <td>6.0</td>\n",
       "    </tr>\n",
       "  </tbody>\n",
       "</table>\n",
       "</div>"
      ],
      "text/plain": [
       "   Days_Passed  Months_Passed  Years_passed\n",
       "0         1862             61           5.0\n",
       "1         2344             77           6.0\n",
       "2         2275             75           6.0\n",
       "3         1977             65           5.0\n",
       "4         2200             72           6.0"
      ]
     },
     "execution_count": 384,
     "metadata": {},
     "output_type": "execute_result"
    }
   ],
   "source": [
    "print(\"Date passed since last order\")\n",
    "df = pd.DataFrame({'Days_Passed': total_days_passed, 'Months_Passed': total_month_passed, 'Years_passed': total_year_passed})\n",
    "df.head()"
   ]
  },
  {
   "cell_type": "code",
   "execution_count": 385,
   "id": "a926f7ee-ff2a-4038-a7fd-362aca6cbc6d",
   "metadata": {},
   "outputs": [
    {
     "data": {
      "text/plain": [
       "1"
      ]
     },
     "execution_count": 385,
     "metadata": {},
     "output_type": "execute_result"
    }
   ],
   "source": [
    "today.month"
   ]
  },
  {
   "cell_type": "markdown",
   "id": "83ce1cf7-2f09-4198-af24-682a9c858847",
   "metadata": {},
   "source": [
    "<h5>Working with Time</h5>"
   ]
  },
  {
   "cell_type": "code",
   "execution_count": 387,
   "id": "26266eb5-02b6-4c36-ac07-e4bb47090876",
   "metadata": {},
   "outputs": [],
   "source": [
    "time.drop(['msg'], axis=1, inplace=True)"
   ]
  },
  {
   "cell_type": "code",
   "execution_count": 388,
   "id": "94847e07-1e7f-4f08-aea5-ba46b1690751",
   "metadata": {},
   "outputs": [
    {
     "data": {
      "text/html": [
       "<div>\n",
       "<style scoped>\n",
       "    .dataframe tbody tr th:only-of-type {\n",
       "        vertical-align: middle;\n",
       "    }\n",
       "\n",
       "    .dataframe tbody tr th {\n",
       "        vertical-align: top;\n",
       "    }\n",
       "\n",
       "    .dataframe thead th {\n",
       "        text-align: right;\n",
       "    }\n",
       "</style>\n",
       "<table border=\"1\" class=\"dataframe\">\n",
       "  <thead>\n",
       "    <tr style=\"text-align: right;\">\n",
       "      <th></th>\n",
       "      <th>date</th>\n",
       "    </tr>\n",
       "  </thead>\n",
       "  <tbody>\n",
       "    <tr>\n",
       "      <th>0</th>\n",
       "      <td>2013-12-15 00:50:00</td>\n",
       "    </tr>\n",
       "    <tr>\n",
       "      <th>1</th>\n",
       "      <td>2014-04-29 23:40:00</td>\n",
       "    </tr>\n",
       "    <tr>\n",
       "      <th>2</th>\n",
       "      <td>2012-12-30 00:21:00</td>\n",
       "    </tr>\n",
       "    <tr>\n",
       "      <th>3</th>\n",
       "      <td>2014-11-28 00:31:00</td>\n",
       "    </tr>\n",
       "    <tr>\n",
       "      <th>4</th>\n",
       "      <td>2013-10-26 23:11:00</td>\n",
       "    </tr>\n",
       "  </tbody>\n",
       "</table>\n",
       "</div>"
      ],
      "text/plain": [
       "                  date\n",
       "0  2013-12-15 00:50:00\n",
       "1  2014-04-29 23:40:00\n",
       "2  2012-12-30 00:21:00\n",
       "3  2014-11-28 00:31:00\n",
       "4  2013-10-26 23:11:00"
      ]
     },
     "execution_count": 388,
     "metadata": {},
     "output_type": "execute_result"
    }
   ],
   "source": [
    "time.head()"
   ]
  },
  {
   "cell_type": "code",
   "execution_count": 389,
   "id": "5dac82f3-acaa-4e76-b990-728f2e6d9b60",
   "metadata": {},
   "outputs": [
    {
     "data": {
      "text/plain": [
       "dtype('O')"
      ]
     },
     "execution_count": 389,
     "metadata": {},
     "output_type": "execute_result"
    }
   ],
   "source": [
    "time['date'].dtype"
   ]
  },
  {
   "cell_type": "code",
   "execution_count": 430,
   "id": "d113cb96-d278-4394-89f4-30e2b6df737f",
   "metadata": {},
   "outputs": [
    {
     "name": "stdout",
     "output_type": "stream",
     "text": [
      "<class 'pandas.core.series.Series'>\n",
      "RangeIndex: 1000 entries, 0 to 999\n",
      "Series name: date\n",
      "Non-Null Count  Dtype         \n",
      "--------------  -----         \n",
      "1000 non-null   datetime64[ns]\n",
      "dtypes: datetime64[ns](1)\n",
      "memory usage: 7.9 KB\n"
     ]
    }
   ],
   "source": [
    "time['date'] = pd.to_datetime(time['date'], errors='coerce')\n",
    "time['date'].info()"
   ]
  },
  {
   "cell_type": "code",
   "execution_count": 436,
   "id": "d9909e96-dbf9-49d7-8ce8-9247949bb1a5",
   "metadata": {},
   "outputs": [],
   "source": [
    "# extract date and time part from the date column to a separate column\n",
    "time['date_only'] = time['date'].dt.date\n",
    "time['time_only'] = time['date'].dt.time"
   ]
  },
  {
   "cell_type": "code",
   "execution_count": 438,
   "id": "51498f4d-60ad-4f61-ac50-d43b62f5717d",
   "metadata": {},
   "outputs": [
    {
     "data": {
      "text/html": [
       "<div>\n",
       "<style scoped>\n",
       "    .dataframe tbody tr th:only-of-type {\n",
       "        vertical-align: middle;\n",
       "    }\n",
       "\n",
       "    .dataframe tbody tr th {\n",
       "        vertical-align: top;\n",
       "    }\n",
       "\n",
       "    .dataframe thead th {\n",
       "        text-align: right;\n",
       "    }\n",
       "</style>\n",
       "<table border=\"1\" class=\"dataframe\">\n",
       "  <thead>\n",
       "    <tr style=\"text-align: right;\">\n",
       "      <th></th>\n",
       "      <th>date</th>\n",
       "      <th>date_only</th>\n",
       "      <th>time_only</th>\n",
       "    </tr>\n",
       "  </thead>\n",
       "  <tbody>\n",
       "    <tr>\n",
       "      <th>0</th>\n",
       "      <td>2013-12-15 00:50:00</td>\n",
       "      <td>2013-12-15</td>\n",
       "      <td>00:50:00</td>\n",
       "    </tr>\n",
       "    <tr>\n",
       "      <th>1</th>\n",
       "      <td>2014-04-29 23:40:00</td>\n",
       "      <td>2014-04-29</td>\n",
       "      <td>23:40:00</td>\n",
       "    </tr>\n",
       "    <tr>\n",
       "      <th>2</th>\n",
       "      <td>2012-12-30 00:21:00</td>\n",
       "      <td>2012-12-30</td>\n",
       "      <td>00:21:00</td>\n",
       "    </tr>\n",
       "    <tr>\n",
       "      <th>3</th>\n",
       "      <td>2014-11-28 00:31:00</td>\n",
       "      <td>2014-11-28</td>\n",
       "      <td>00:31:00</td>\n",
       "    </tr>\n",
       "    <tr>\n",
       "      <th>4</th>\n",
       "      <td>2013-10-26 23:11:00</td>\n",
       "      <td>2013-10-26</td>\n",
       "      <td>23:11:00</td>\n",
       "    </tr>\n",
       "  </tbody>\n",
       "</table>\n",
       "</div>"
      ],
      "text/plain": [
       "                 date   date_only time_only\n",
       "0 2013-12-15 00:50:00  2013-12-15  00:50:00\n",
       "1 2014-04-29 23:40:00  2014-04-29  23:40:00\n",
       "2 2012-12-30 00:21:00  2012-12-30  00:21:00\n",
       "3 2014-11-28 00:31:00  2014-11-28  00:31:00\n",
       "4 2013-10-26 23:11:00  2013-10-26  23:11:00"
      ]
     },
     "execution_count": 438,
     "metadata": {},
     "output_type": "execute_result"
    }
   ],
   "source": [
    "time.head()"
   ]
  },
  {
   "cell_type": "markdown",
   "id": "517db1c6-8032-49bd-a2ff-046e9a3bc076",
   "metadata": {},
   "source": [
    "The dtype of the time_extracted is object so we need to change it to 'datetime' dtypes to extract second, minutes and hours."
   ]
  },
  {
   "cell_type": "code",
   "execution_count": 442,
   "id": "3e8a514c-ba31-48f7-8149-836d3219fbf2",
   "metadata": {},
   "outputs": [
    {
     "data": {
      "text/plain": [
       "dtype('O')"
      ]
     },
     "execution_count": 442,
     "metadata": {},
     "output_type": "execute_result"
    }
   ],
   "source": [
    "time_only.dtype"
   ]
  },
  {
   "cell_type": "markdown",
   "id": "053e3be0-2b89-4ff8-aaee-78493b2793fd",
   "metadata": {},
   "source": [
    "Now, after the dates and times are splitted, they are again an object datatypes. so, converting to datetime again. Since python doesn't have case to only work with time, we need add some dates into our time_only column to make it work."
   ]
  },
  {
   "cell_type": "code",
   "execution_count": 449,
   "id": "d5285cf2-02cd-4b35-98c1-924328aaa4a7",
   "metadata": {},
   "outputs": [
    {
     "ename": "KeyError",
     "evalue": "\"None of [Index([00:50:00, 23:40:00, 00:21:00, 00:31:00, 23:11:00, 22:52:00, 00:23:00,\\n       01:10:00, 01:20:00, 23:46:00,\\n       ...\\n       00:15:00, 01:20:00, 01:17:00, 23:02:00, 00:01:00, 00:50:00, 23:14:00,\\n       23:37:00, 23:34:00, 23:25:00],\\n      dtype='object', length=1000)] are in the [columns]\"",
     "output_type": "error",
     "traceback": [
      "\u001b[1;31m---------------------------------------------------------------------------\u001b[0m",
      "\u001b[1;31mKeyError\u001b[0m                                  Traceback (most recent call last)",
      "Cell \u001b[1;32mIn[449], line 1\u001b[0m\n\u001b[1;32m----> 1\u001b[0m time[\u001b[38;5;124m'\u001b[39m\u001b[38;5;124mtime_only_as_dt\u001b[39m\u001b[38;5;124m'\u001b[39m] \u001b[38;5;241m=\u001b[39m pd\u001b[38;5;241m.\u001b[39mto_datetime(\u001b[38;5;124m\"\u001b[39m\u001b[38;5;124m2025-01-14\u001b[39m\u001b[38;5;124m\"\u001b[39m \u001b[38;5;241m+\u001b[39m \u001b[43mdate\u001b[49m\u001b[43m[\u001b[49m\u001b[43mtime_only\u001b[49m\u001b[43m]\u001b[49m\u001b[38;5;241m.\u001b[39mastype(\u001b[38;5;28mstr\u001b[39m))\n",
      "File \u001b[1;32m~\\anaconda3\\Lib\\site-packages\\pandas\\core\\frame.py:4108\u001b[0m, in \u001b[0;36mDataFrame.__getitem__\u001b[1;34m(self, key)\u001b[0m\n\u001b[0;32m   4106\u001b[0m     \u001b[38;5;28;01mif\u001b[39;00m is_iterator(key):\n\u001b[0;32m   4107\u001b[0m         key \u001b[38;5;241m=\u001b[39m \u001b[38;5;28mlist\u001b[39m(key)\n\u001b[1;32m-> 4108\u001b[0m     indexer \u001b[38;5;241m=\u001b[39m \u001b[38;5;28;43mself\u001b[39;49m\u001b[38;5;241;43m.\u001b[39;49m\u001b[43mcolumns\u001b[49m\u001b[38;5;241;43m.\u001b[39;49m\u001b[43m_get_indexer_strict\u001b[49m\u001b[43m(\u001b[49m\u001b[43mkey\u001b[49m\u001b[43m,\u001b[49m\u001b[43m \u001b[49m\u001b[38;5;124;43m\"\u001b[39;49m\u001b[38;5;124;43mcolumns\u001b[39;49m\u001b[38;5;124;43m\"\u001b[39;49m\u001b[43m)\u001b[49m[\u001b[38;5;241m1\u001b[39m]\n\u001b[0;32m   4110\u001b[0m \u001b[38;5;66;03m# take() does not accept boolean indexers\u001b[39;00m\n\u001b[0;32m   4111\u001b[0m \u001b[38;5;28;01mif\u001b[39;00m \u001b[38;5;28mgetattr\u001b[39m(indexer, \u001b[38;5;124m\"\u001b[39m\u001b[38;5;124mdtype\u001b[39m\u001b[38;5;124m\"\u001b[39m, \u001b[38;5;28;01mNone\u001b[39;00m) \u001b[38;5;241m==\u001b[39m \u001b[38;5;28mbool\u001b[39m:\n",
      "File \u001b[1;32m~\\anaconda3\\Lib\\site-packages\\pandas\\core\\indexes\\base.py:6200\u001b[0m, in \u001b[0;36mIndex._get_indexer_strict\u001b[1;34m(self, key, axis_name)\u001b[0m\n\u001b[0;32m   6197\u001b[0m \u001b[38;5;28;01melse\u001b[39;00m:\n\u001b[0;32m   6198\u001b[0m     keyarr, indexer, new_indexer \u001b[38;5;241m=\u001b[39m \u001b[38;5;28mself\u001b[39m\u001b[38;5;241m.\u001b[39m_reindex_non_unique(keyarr)\n\u001b[1;32m-> 6200\u001b[0m \u001b[38;5;28;43mself\u001b[39;49m\u001b[38;5;241;43m.\u001b[39;49m\u001b[43m_raise_if_missing\u001b[49m\u001b[43m(\u001b[49m\u001b[43mkeyarr\u001b[49m\u001b[43m,\u001b[49m\u001b[43m \u001b[49m\u001b[43mindexer\u001b[49m\u001b[43m,\u001b[49m\u001b[43m \u001b[49m\u001b[43maxis_name\u001b[49m\u001b[43m)\u001b[49m\n\u001b[0;32m   6202\u001b[0m keyarr \u001b[38;5;241m=\u001b[39m \u001b[38;5;28mself\u001b[39m\u001b[38;5;241m.\u001b[39mtake(indexer)\n\u001b[0;32m   6203\u001b[0m \u001b[38;5;28;01mif\u001b[39;00m \u001b[38;5;28misinstance\u001b[39m(key, Index):\n\u001b[0;32m   6204\u001b[0m     \u001b[38;5;66;03m# GH 42790 - Preserve name from an Index\u001b[39;00m\n",
      "File \u001b[1;32m~\\anaconda3\\Lib\\site-packages\\pandas\\core\\indexes\\base.py:6249\u001b[0m, in \u001b[0;36mIndex._raise_if_missing\u001b[1;34m(self, key, indexer, axis_name)\u001b[0m\n\u001b[0;32m   6247\u001b[0m \u001b[38;5;28;01mif\u001b[39;00m nmissing:\n\u001b[0;32m   6248\u001b[0m     \u001b[38;5;28;01mif\u001b[39;00m nmissing \u001b[38;5;241m==\u001b[39m \u001b[38;5;28mlen\u001b[39m(indexer):\n\u001b[1;32m-> 6249\u001b[0m         \u001b[38;5;28;01mraise\u001b[39;00m \u001b[38;5;167;01mKeyError\u001b[39;00m(\u001b[38;5;124mf\u001b[39m\u001b[38;5;124m\"\u001b[39m\u001b[38;5;124mNone of [\u001b[39m\u001b[38;5;132;01m{\u001b[39;00mkey\u001b[38;5;132;01m}\u001b[39;00m\u001b[38;5;124m] are in the [\u001b[39m\u001b[38;5;132;01m{\u001b[39;00maxis_name\u001b[38;5;132;01m}\u001b[39;00m\u001b[38;5;124m]\u001b[39m\u001b[38;5;124m\"\u001b[39m)\n\u001b[0;32m   6251\u001b[0m     not_found \u001b[38;5;241m=\u001b[39m \u001b[38;5;28mlist\u001b[39m(ensure_index(key)[missing_mask\u001b[38;5;241m.\u001b[39mnonzero()[\u001b[38;5;241m0\u001b[39m]]\u001b[38;5;241m.\u001b[39munique())\n\u001b[0;32m   6252\u001b[0m     \u001b[38;5;28;01mraise\u001b[39;00m \u001b[38;5;167;01mKeyError\u001b[39;00m(\u001b[38;5;124mf\u001b[39m\u001b[38;5;124m\"\u001b[39m\u001b[38;5;132;01m{\u001b[39;00mnot_found\u001b[38;5;132;01m}\u001b[39;00m\u001b[38;5;124m not in index\u001b[39m\u001b[38;5;124m\"\u001b[39m)\n",
      "\u001b[1;31mKeyError\u001b[0m: \"None of [Index([00:50:00, 23:40:00, 00:21:00, 00:31:00, 23:11:00, 22:52:00, 00:23:00,\\n       01:10:00, 01:20:00, 23:46:00,\\n       ...\\n       00:15:00, 01:20:00, 01:17:00, 23:02:00, 00:01:00, 00:50:00, 23:14:00,\\n       23:37:00, 23:34:00, 23:25:00],\\n      dtype='object', length=1000)] are in the [columns]\""
     ]
    }
   ],
   "source": [
    "time[\"time_only_as_dt\"] = pd.to_datetime(\"190-01-01 \" + time[\"time_only\"].astype(str))"
   ]
  },
  {
   "cell_type": "code",
   "execution_count": null,
   "id": "5087dbc6-4fe3-40ca-bb8f-2e54d401764d",
   "metadata": {},
   "outputs": [],
   "source": []
  }
 ],
 "metadata": {
  "kernelspec": {
   "display_name": "Python 3 (ipykernel)",
   "language": "python",
   "name": "python3"
  },
  "language_info": {
   "codemirror_mode": {
    "name": "ipython",
    "version": 3
   },
   "file_extension": ".py",
   "mimetype": "text/x-python",
   "name": "python",
   "nbconvert_exporter": "python",
   "pygments_lexer": "ipython3",
   "version": "3.12.4"
  }
 },
 "nbformat": 4,
 "nbformat_minor": 5
}
