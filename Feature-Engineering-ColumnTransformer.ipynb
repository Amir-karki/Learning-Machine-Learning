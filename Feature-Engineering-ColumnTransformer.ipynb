{
 "cells": [
  {
   "cell_type": "code",
   "execution_count": 198,
   "id": "ac308c5d-4bf5-4f7a-a332-76ec29aacaca",
   "metadata": {},
   "outputs": [],
   "source": [
    "import numpy as np\n",
    "import pandas as pd\n",
    "from sklearn.model_selection import train_test_split\n",
    "from sklearn.impute import SimpleImputer\n",
    "from sklearn.preprocessing import OrdinalEncoder, OneHotEncoder\n",
    "from sklearn.compose import ColumnTransformer"
   ]
  },
  {
   "cell_type": "code",
   "execution_count": 148,
   "id": "376c1b71-001c-49fb-ab70-e585d5490cc2",
   "metadata": {},
   "outputs": [
    {
     "data": {
      "text/html": [
       "<div>\n",
       "<style scoped>\n",
       "    .dataframe tbody tr th:only-of-type {\n",
       "        vertical-align: middle;\n",
       "    }\n",
       "\n",
       "    .dataframe tbody tr th {\n",
       "        vertical-align: top;\n",
       "    }\n",
       "\n",
       "    .dataframe thead th {\n",
       "        text-align: right;\n",
       "    }\n",
       "</style>\n",
       "<table border=\"1\" class=\"dataframe\">\n",
       "  <thead>\n",
       "    <tr style=\"text-align: right;\">\n",
       "      <th></th>\n",
       "      <th>age</th>\n",
       "      <th>gender</th>\n",
       "      <th>fever</th>\n",
       "      <th>cough</th>\n",
       "      <th>city</th>\n",
       "      <th>has_covid</th>\n",
       "    </tr>\n",
       "  </thead>\n",
       "  <tbody>\n",
       "    <tr>\n",
       "      <th>0</th>\n",
       "      <td>60</td>\n",
       "      <td>Male</td>\n",
       "      <td>103.0</td>\n",
       "      <td>Mild</td>\n",
       "      <td>Kolkata</td>\n",
       "      <td>No</td>\n",
       "    </tr>\n",
       "    <tr>\n",
       "      <th>1</th>\n",
       "      <td>27</td>\n",
       "      <td>Male</td>\n",
       "      <td>100.0</td>\n",
       "      <td>Mild</td>\n",
       "      <td>Delhi</td>\n",
       "      <td>Yes</td>\n",
       "    </tr>\n",
       "    <tr>\n",
       "      <th>2</th>\n",
       "      <td>42</td>\n",
       "      <td>Male</td>\n",
       "      <td>101.0</td>\n",
       "      <td>Mild</td>\n",
       "      <td>Delhi</td>\n",
       "      <td>No</td>\n",
       "    </tr>\n",
       "    <tr>\n",
       "      <th>3</th>\n",
       "      <td>31</td>\n",
       "      <td>Female</td>\n",
       "      <td>98.0</td>\n",
       "      <td>Mild</td>\n",
       "      <td>Kolkata</td>\n",
       "      <td>No</td>\n",
       "    </tr>\n",
       "    <tr>\n",
       "      <th>4</th>\n",
       "      <td>65</td>\n",
       "      <td>Female</td>\n",
       "      <td>101.0</td>\n",
       "      <td>Mild</td>\n",
       "      <td>Mumbai</td>\n",
       "      <td>No</td>\n",
       "    </tr>\n",
       "  </tbody>\n",
       "</table>\n",
       "</div>"
      ],
      "text/plain": [
       "   age  gender  fever cough     city has_covid\n",
       "0   60    Male  103.0  Mild  Kolkata        No\n",
       "1   27    Male  100.0  Mild    Delhi       Yes\n",
       "2   42    Male  101.0  Mild    Delhi        No\n",
       "3   31  Female   98.0  Mild  Kolkata        No\n",
       "4   65  Female  101.0  Mild   Mumbai        No"
      ]
     },
     "execution_count": 148,
     "metadata": {},
     "output_type": "execute_result"
    }
   ],
   "source": [
    "df = pd.read_csv(\"covid_toy.csv\")\n",
    "df.head()"
   ]
  },
  {
   "cell_type": "code",
   "execution_count": 149,
   "id": "c112cc11-c54a-4261-a723-cd9769dc3a75",
   "metadata": {},
   "outputs": [
    {
     "name": "stdout",
     "output_type": "stream",
     "text": [
      "<class 'pandas.core.frame.DataFrame'>\n",
      "RangeIndex: 100 entries, 0 to 99\n",
      "Data columns (total 6 columns):\n",
      " #   Column     Non-Null Count  Dtype  \n",
      "---  ------     --------------  -----  \n",
      " 0   age        100 non-null    int64  \n",
      " 1   gender     100 non-null    object \n",
      " 2   fever      90 non-null     float64\n",
      " 3   cough      100 non-null    object \n",
      " 4   city       100 non-null    object \n",
      " 5   has_covid  100 non-null    object \n",
      "dtypes: float64(1), int64(1), object(4)\n",
      "memory usage: 4.8+ KB\n"
     ]
    }
   ],
   "source": [
    "df.info()"
   ]
  },
  {
   "cell_type": "code",
   "execution_count": 150,
   "id": "dfb20df7-7b6e-4930-8106-96794657cd0b",
   "metadata": {},
   "outputs": [
    {
     "data": {
      "text/plain": [
       "age           0\n",
       "gender        0\n",
       "fever        10\n",
       "cough         0\n",
       "city          0\n",
       "has_covid     0\n",
       "dtype: int64"
      ]
     },
     "execution_count": 150,
     "metadata": {},
     "output_type": "execute_result"
    }
   ],
   "source": [
    "df.isnull().sum()"
   ]
  },
  {
   "cell_type": "markdown",
   "id": "1aa01ec6-1f62-4c39-b47c-c2da57f32539",
   "metadata": {},
   "source": [
    "#### Understanding out the columns\n",
    "age, fever = numerical columns with fever having 10 missing values<br>\n",
    "gender, city = Nominal categorical columns (OneHotEncoder)<br>\n",
    "cough = Ordinal categorical column (OrdinalEncoder)<br>\n",
    "has_covid = Ordinal categorical column (LabelEncoder)"
   ]
  },
  {
   "cell_type": "code",
   "execution_count": 152,
   "id": "0cd6664f-c881-420b-9cf5-50d48af45e1f",
   "metadata": {},
   "outputs": [],
   "source": [
    "y = df.has_covid\n",
    "X = df.drop('has_covid', axis=1)"
   ]
  },
  {
   "cell_type": "code",
   "execution_count": 153,
   "id": "d352a751-ba2f-4759-b4b7-ec649d0cdcc1",
   "metadata": {},
   "outputs": [
    {
     "data": {
      "text/html": [
       "<div>\n",
       "<style scoped>\n",
       "    .dataframe tbody tr th:only-of-type {\n",
       "        vertical-align: middle;\n",
       "    }\n",
       "\n",
       "    .dataframe tbody tr th {\n",
       "        vertical-align: top;\n",
       "    }\n",
       "\n",
       "    .dataframe thead th {\n",
       "        text-align: right;\n",
       "    }\n",
       "</style>\n",
       "<table border=\"1\" class=\"dataframe\">\n",
       "  <thead>\n",
       "    <tr style=\"text-align: right;\">\n",
       "      <th></th>\n",
       "      <th>age</th>\n",
       "      <th>gender</th>\n",
       "      <th>fever</th>\n",
       "      <th>cough</th>\n",
       "      <th>city</th>\n",
       "    </tr>\n",
       "  </thead>\n",
       "  <tbody>\n",
       "    <tr>\n",
       "      <th>0</th>\n",
       "      <td>60</td>\n",
       "      <td>Male</td>\n",
       "      <td>103.0</td>\n",
       "      <td>Mild</td>\n",
       "      <td>Kolkata</td>\n",
       "    </tr>\n",
       "    <tr>\n",
       "      <th>1</th>\n",
       "      <td>27</td>\n",
       "      <td>Male</td>\n",
       "      <td>100.0</td>\n",
       "      <td>Mild</td>\n",
       "      <td>Delhi</td>\n",
       "    </tr>\n",
       "    <tr>\n",
       "      <th>2</th>\n",
       "      <td>42</td>\n",
       "      <td>Male</td>\n",
       "      <td>101.0</td>\n",
       "      <td>Mild</td>\n",
       "      <td>Delhi</td>\n",
       "    </tr>\n",
       "    <tr>\n",
       "      <th>3</th>\n",
       "      <td>31</td>\n",
       "      <td>Female</td>\n",
       "      <td>98.0</td>\n",
       "      <td>Mild</td>\n",
       "      <td>Kolkata</td>\n",
       "    </tr>\n",
       "    <tr>\n",
       "      <th>4</th>\n",
       "      <td>65</td>\n",
       "      <td>Female</td>\n",
       "      <td>101.0</td>\n",
       "      <td>Mild</td>\n",
       "      <td>Mumbai</td>\n",
       "    </tr>\n",
       "  </tbody>\n",
       "</table>\n",
       "</div>"
      ],
      "text/plain": [
       "   age  gender  fever cough     city\n",
       "0   60    Male  103.0  Mild  Kolkata\n",
       "1   27    Male  100.0  Mild    Delhi\n",
       "2   42    Male  101.0  Mild    Delhi\n",
       "3   31  Female   98.0  Mild  Kolkata\n",
       "4   65  Female  101.0  Mild   Mumbai"
      ]
     },
     "execution_count": 153,
     "metadata": {},
     "output_type": "execute_result"
    }
   ],
   "source": [
    "X.head()"
   ]
  },
  {
   "cell_type": "code",
   "execution_count": 154,
   "id": "de2d9c8c-e30f-46b8-9d88-e1f59cce52fb",
   "metadata": {},
   "outputs": [],
   "source": [
    "X_train, X_test, y_train, y_test = train_test_split(X, y, test_size=0.2, random_state=0)"
   ]
  },
  {
   "cell_type": "code",
   "execution_count": 155,
   "id": "292111bb-db59-451c-87c7-6e3d6b8f150b",
   "metadata": {},
   "outputs": [
    {
     "data": {
      "text/plain": [
       "(20, 5)"
      ]
     },
     "execution_count": 155,
     "metadata": {},
     "output_type": "execute_result"
    }
   ],
   "source": [
    "X_test.shape"
   ]
  },
  {
   "cell_type": "markdown",
   "id": "b53c4edf-b38e-44c0-b0bd-2fa290088a2f",
   "metadata": {},
   "source": [
    "<h3 style='color: red'>Performing Preprocessing for Individual columns</h3>"
   ]
  },
  {
   "cell_type": "code",
   "execution_count": 156,
   "id": "1356f303-39e6-43f5-a023-1af059a1252c",
   "metadata": {},
   "outputs": [],
   "source": [
    "# imputing fever columns with mean values\n",
    "imputer = SimpleImputer()\n",
    "imputed_X_train_fever = imputer.fit_transform(X_train[[\"fever\"]])\n",
    "imputed_X_test_fever = imputer.transform(X_test[[\"fever\"]])"
   ]
  },
  {
   "cell_type": "code",
   "execution_count": 157,
   "id": "c97bfff9-6c56-43de-8c9d-80379b75f0b4",
   "metadata": {},
   "outputs": [
    {
     "data": {
      "text/plain": [
       "array(['Mild', 'Strong'], dtype=object)"
      ]
     },
     "execution_count": 157,
     "metadata": {},
     "output_type": "execute_result"
    }
   ],
   "source": [
    "df.cough.unique()"
   ]
  },
  {
   "cell_type": "code",
   "execution_count": 158,
   "id": "d162fdbe-5159-427d-a7e6-7b4c51b54c2b",
   "metadata": {},
   "outputs": [],
   "source": [
    "# Ordinal Encoder for cough columns\n",
    "oe = OrdinalEncoder(categories=[[\"Mild\", \"Strong\"]])\n",
    "imputed_X_train_cough = oe.fit_transform(X_train[[\"cough\"]])\n",
    "imputed_X_test_cough = oe.transform(X_test[[\"cough\"]])"
   ]
  },
  {
   "cell_type": "code",
   "execution_count": 159,
   "id": "a7697a09-b8b4-4eea-8eed-9f9b220e1fc1",
   "metadata": {},
   "outputs": [],
   "source": [
    "# OneHotEncoder for gender, city\n",
    "ohe = OneHotEncoder(dtype='int32', sparse_output=False, drop='first')\n",
    "imputed_X_train_gender_city = ohe.fit_transform(X_train[[\"gender\", \"city\"]])\n",
    "imputed_X_test_gender_city = ohe.transform(X_test[[\"gender\", \"city\"]])"
   ]
  },
  {
   "cell_type": "code",
   "execution_count": 160,
   "id": "ec089675-75fa-40a0-9bbf-636e9ac6d549",
   "metadata": {},
   "outputs": [
    {
     "data": {
      "text/plain": [
       "(20, 4)"
      ]
     },
     "execution_count": 160,
     "metadata": {},
     "output_type": "execute_result"
    }
   ],
   "source": [
    "imputed_X_test_gender_city.shape"
   ]
  },
  {
   "cell_type": "code",
   "execution_count": 166,
   "id": "4101ef9e-7846-4299-968e-3643278d1707",
   "metadata": {},
   "outputs": [],
   "source": [
    "X_train_age = X_train.drop(columns=[\"city\", \"gender\", \"cough\", \"fever\"]).values\n",
    "X_test_age = X_test.drop(columns=[\"city\", \"gender\", \"cough\", \"fever\"]).values"
   ]
  },
  {
   "cell_type": "code",
   "execution_count": 174,
   "id": "7f92ec0a-e9fd-4f31-a366-56a2d3845c85",
   "metadata": {},
   "outputs": [
    {
     "data": {
      "text/plain": [
       "(80, 1)"
      ]
     },
     "execution_count": 174,
     "metadata": {},
     "output_type": "execute_result"
    }
   ],
   "source": [
    "X_train_age.shape"
   ]
  },
  {
   "cell_type": "code",
   "execution_count": 163,
   "id": "7b1edd4b-27ed-45db-81bb-916560b7fe2a",
   "metadata": {},
   "outputs": [
    {
     "data": {
      "text/plain": [
       "2"
      ]
     },
     "execution_count": 163,
     "metadata": {},
     "output_type": "execute_result"
    }
   ],
   "source": [
    "imputed_X_train_gender_city.ndim"
   ]
  },
  {
   "cell_type": "code",
   "execution_count": 192,
   "id": "cd461517-6af6-4ddd-af17-6d97c36b93a6",
   "metadata": {},
   "outputs": [],
   "source": [
    "preprocessed_X_train = np.concatenate((X_train_age, imputed_X_train_gender_city, imputed_X_train_fever, imputed_X_train_cough), axis=1)"
   ]
  },
  {
   "cell_type": "code",
   "execution_count": 194,
   "id": "b9b1bcce-faea-4320-aec0-e2d5948ffe7b",
   "metadata": {},
   "outputs": [
    {
     "data": {
      "text/plain": [
       "array([[ 22.        ,   0.        ,   0.        ,   0.        ,\n",
       "          0.        ,  99.        ,   0.        ],\n",
       "       [ 56.        ,   0.        ,   0.        ,   0.        ,\n",
       "          0.        , 104.        ,   1.        ],\n",
       "       [ 31.        ,   0.        ,   0.        ,   1.        ,\n",
       "          0.        ,  98.        ,   0.        ],\n",
       "       [ 75.        ,   0.        ,   1.        ,   0.        ,\n",
       "          0.        , 104.        ,   1.        ],\n",
       "       [ 72.        ,   1.        ,   0.        ,   0.        ,\n",
       "          0.        ,  99.        ,   0.        ],\n",
       "       [ 66.        ,   1.        ,   0.        ,   0.        ,\n",
       "          0.        ,  99.        ,   1.        ],\n",
       "       [ 14.        ,   1.        ,   0.        ,   0.        ,\n",
       "          0.        , 101.        ,   1.        ],\n",
       "       [ 10.        ,   0.        ,   0.        ,   1.        ,\n",
       "          0.        ,  98.        ,   1.        ],\n",
       "       [ 24.        ,   1.        ,   0.        ,   1.        ,\n",
       "          0.        ,  98.        ,   0.        ],\n",
       "       [ 80.        ,   1.        ,   0.        ,   0.        ,\n",
       "          0.        , 100.        ,   0.        ],\n",
       "       [ 24.        ,   0.        ,   0.        ,   0.        ,\n",
       "          0.        , 102.        ,   1.        ],\n",
       "       [ 14.        ,   0.        ,   0.        ,   0.        ,\n",
       "          1.        ,  99.        ,   0.        ],\n",
       "       [ 59.        ,   0.        ,   1.        ,   0.        ,\n",
       "          0.        ,  99.        ,   1.        ],\n",
       "       [ 54.        ,   0.        ,   0.        ,   1.        ,\n",
       "          0.        , 104.        ,   1.        ],\n",
       "       [ 11.        ,   0.        ,   0.        ,   1.        ,\n",
       "          0.        , 100.        ,   1.        ],\n",
       "       [ 33.        ,   0.        ,   1.        ,   0.        ,\n",
       "          0.        , 102.        ,   1.        ],\n",
       "       [ 64.        ,   0.        ,   0.        ,   0.        ,\n",
       "          0.        ,  98.        ,   0.        ],\n",
       "       [ 71.        ,   1.        ,   0.        ,   1.        ,\n",
       "          0.        , 100.91549296,   1.        ],\n",
       "       [ 10.        ,   1.        ,   0.        ,   0.        ,\n",
       "          0.        , 100.        ,   0.        ],\n",
       "       [ 34.        ,   0.        ,   1.        ,   0.        ,\n",
       "          0.        , 104.        ,   1.        ],\n",
       "       [ 27.        ,   1.        ,   1.        ,   0.        ,\n",
       "          0.        , 100.        ,   0.        ],\n",
       "       [ 81.        ,   0.        ,   0.        ,   0.        ,\n",
       "          1.        ,  98.        ,   1.        ],\n",
       "       [ 27.        ,   1.        ,   1.        ,   0.        ,\n",
       "          0.        , 100.        ,   0.        ],\n",
       "       [ 82.        ,   1.        ,   0.        ,   1.        ,\n",
       "          0.        , 100.91549296,   0.        ],\n",
       "       [ 65.        ,   0.        ,   0.        ,   0.        ,\n",
       "          1.        , 101.        ,   0.        ],\n",
       "       [ 70.        ,   1.        ,   0.        ,   1.        ,\n",
       "          0.        , 103.        ,   1.        ],\n",
       "       [ 40.        ,   0.        ,   1.        ,   0.        ,\n",
       "          0.        ,  98.        ,   1.        ],\n",
       "       [ 49.        ,   0.        ,   1.        ,   0.        ,\n",
       "          0.        , 102.        ,   0.        ],\n",
       "       [ 49.        ,   0.        ,   1.        ,   0.        ,\n",
       "          0.        , 101.        ,   0.        ],\n",
       "       [ 84.        ,   0.        ,   0.        ,   0.        ,\n",
       "          0.        , 100.91549296,   0.        ],\n",
       "       [ 38.        ,   1.        ,   1.        ,   0.        ,\n",
       "          0.        , 100.91549296,   0.        ],\n",
       "       [  6.        ,   0.        ,   0.        ,   1.        ,\n",
       "          0.        , 104.        ,   0.        ],\n",
       "       [ 60.        ,   1.        ,   0.        ,   1.        ,\n",
       "          0.        , 103.        ,   0.        ],\n",
       "       [ 74.        ,   1.        ,   0.        ,   0.        ,\n",
       "          1.        , 102.        ,   0.        ],\n",
       "       [ 16.        ,   1.        ,   0.        ,   1.        ,\n",
       "          0.        , 104.        ,   0.        ],\n",
       "       [ 19.        ,   1.        ,   1.        ,   0.        ,\n",
       "          0.        , 101.        ,   0.        ],\n",
       "       [ 65.        ,   0.        ,   0.        ,   0.        ,\n",
       "          1.        ,  98.        ,   0.        ],\n",
       "       [ 82.        ,   0.        ,   0.        ,   0.        ,\n",
       "          0.        , 102.        ,   1.        ],\n",
       "       [ 80.        ,   0.        ,   1.        ,   0.        ,\n",
       "          0.        ,  98.        ,   0.        ],\n",
       "       [ 47.        ,   0.        ,   0.        ,   0.        ,\n",
       "          0.        , 100.        ,   1.        ],\n",
       "       [ 75.        ,   0.        ,   1.        ,   0.        ,\n",
       "          0.        , 100.91549296,   0.        ],\n",
       "       [ 83.        ,   1.        ,   0.        ,   1.        ,\n",
       "          0.        , 103.        ,   0.        ],\n",
       "       [ 51.        ,   1.        ,   0.        ,   1.        ,\n",
       "          0.        , 104.        ,   0.        ],\n",
       "       [ 49.        ,   0.        ,   0.        ,   0.        ,\n",
       "          0.        ,  99.        ,   1.        ],\n",
       "       [ 48.        ,   0.        ,   0.        ,   1.        ,\n",
       "          0.        , 103.        ,   0.        ],\n",
       "       [ 16.        ,   0.        ,   0.        ,   0.        ,\n",
       "          0.        , 103.        ,   0.        ],\n",
       "       [ 34.        ,   0.        ,   1.        ,   0.        ,\n",
       "          0.        , 101.        ,   1.        ],\n",
       "       [ 69.        ,   0.        ,   0.        ,   0.        ,\n",
       "          1.        ,  98.        ,   1.        ],\n",
       "       [ 51.        ,   1.        ,   0.        ,   0.        ,\n",
       "          0.        , 104.        ,   0.        ],\n",
       "       [ 46.        ,   1.        ,   0.        ,   0.        ,\n",
       "          0.        , 103.        ,   1.        ],\n",
       "       [ 42.        ,   0.        ,   0.        ,   0.        ,\n",
       "          0.        , 100.91549296,   1.        ],\n",
       "       [ 34.        ,   0.        ,   0.        ,   0.        ,\n",
       "          1.        , 100.91549296,   1.        ],\n",
       "       [ 44.        ,   1.        ,   0.        ,   0.        ,\n",
       "          1.        , 104.        ,   0.        ],\n",
       "       [ 20.        ,   0.        ,   0.        ,   0.        ,\n",
       "          0.        , 101.        ,   0.        ],\n",
       "       [  5.        ,   0.        ,   0.        ,   0.        ,\n",
       "          1.        ,  98.        ,   1.        ],\n",
       "       [ 73.        ,   0.        ,   1.        ,   0.        ,\n",
       "          0.        , 103.        ,   0.        ],\n",
       "       [ 12.        ,   1.        ,   0.        ,   0.        ,\n",
       "          0.        ,  98.        ,   1.        ],\n",
       "       [ 79.        ,   1.        ,   0.        ,   1.        ,\n",
       "          0.        , 100.91549296,   1.        ],\n",
       "       [ 83.        ,   0.        ,   0.        ,   1.        ,\n",
       "          0.        , 101.        ,   0.        ],\n",
       "       [  8.        ,   0.        ,   0.        ,   1.        ,\n",
       "          0.        , 101.        ,   0.        ],\n",
       "       [ 23.        ,   1.        ,   0.        ,   0.        ,\n",
       "          1.        , 100.91549296,   0.        ],\n",
       "       [ 55.        ,   1.        ,   0.        ,   1.        ,\n",
       "          0.        , 100.        ,   0.        ],\n",
       "       [ 65.        ,   1.        ,   1.        ,   0.        ,\n",
       "          0.        ,  99.        ,   0.        ],\n",
       "       [ 19.        ,   0.        ,   0.        ,   0.        ,\n",
       "          1.        , 101.        ,   0.        ],\n",
       "       [ 50.        ,   0.        ,   0.        ,   1.        ,\n",
       "          0.        , 103.        ,   0.        ],\n",
       "       [ 69.        ,   0.        ,   0.        ,   0.        ,\n",
       "          0.        , 102.        ,   0.        ],\n",
       "       [ 23.        ,   1.        ,   0.        ,   0.        ,\n",
       "          1.        ,  98.        ,   1.        ],\n",
       "       [ 25.        ,   0.        ,   0.        ,   1.        ,\n",
       "          0.        ,  99.        ,   1.        ],\n",
       "       [  5.        ,   0.        ,   0.        ,   1.        ,\n",
       "          0.        , 100.        ,   0.        ],\n",
       "       [ 68.        ,   0.        ,   1.        ,   0.        ,\n",
       "          0.        , 101.        ,   1.        ],\n",
       "       [ 47.        ,   1.        ,   0.        ,   0.        ,\n",
       "          0.        , 101.        ,   1.        ],\n",
       "       [ 38.        ,   0.        ,   0.        ,   0.        ,\n",
       "          0.        , 101.        ,   0.        ],\n",
       "       [ 73.        ,   1.        ,   0.        ,   0.        ,\n",
       "          0.        ,  98.        ,   0.        ],\n",
       "       [ 17.        ,   0.        ,   0.        ,   1.        ,\n",
       "          0.        , 104.        ,   0.        ],\n",
       "       [ 64.        ,   0.        ,   1.        ,   0.        ,\n",
       "          0.        , 101.        ,   0.        ],\n",
       "       [ 51.        ,   0.        ,   0.        ,   1.        ,\n",
       "          0.        , 101.        ,   1.        ],\n",
       "       [ 65.        ,   1.        ,   0.        ,   0.        ,\n",
       "          0.        ,  99.        ,   0.        ],\n",
       "       [ 42.        ,   1.        ,   0.        ,   0.        ,\n",
       "          1.        , 104.        ,   0.        ],\n",
       "       [ 18.        ,   0.        ,   0.        ,   0.        ,\n",
       "          0.        , 104.        ,   0.        ],\n",
       "       [ 20.        ,   1.        ,   1.        ,   0.        ,\n",
       "          0.        , 102.        ,   1.        ]])"
      ]
     },
     "execution_count": 194,
     "metadata": {},
     "output_type": "execute_result"
    }
   ],
   "source": [
    "preprocessed_X_train"
   ]
  },
  {
   "cell_type": "markdown",
   "id": "47062e48-cdc8-4a62-992d-c074ae5ef277",
   "metadata": {},
   "source": [
    "<h3 style='color: red'>Using Column Transformer</h3>"
   ]
  },
  {
   "cell_type": "code",
   "execution_count": 202,
   "id": "98009dfd-0f4c-418d-911b-3d3f2115f1b7",
   "metadata": {},
   "outputs": [],
   "source": [
    "transformers = ColumnTransformer(transformers=[\n",
    "    ('transformer1', SimpleImputer(), [\"fever\"]),\n",
    "    ('transformer2', OrdinalEncoder(categories=[['Mild', 'Strong']]), [\"cough\"]),\n",
    "    ('transformer3', OneHotEncoder(sparse_output=False, dtype='int32', drop='first'), [\"gender\", \"city\"])\n",
    "], remainder='passthrough')"
   ]
  },
  {
   "cell_type": "code",
   "execution_count": null,
   "id": "02870119-c65a-41bd-8a43-041ad572ff56",
   "metadata": {},
   "outputs": [],
   "source": [
    "transformers.fit_transform(X_train)\n",
    "transformers.transform()"
   ]
  }
 ],
 "metadata": {
  "kernelspec": {
   "display_name": "Python 3 (ipykernel)",
   "language": "python",
   "name": "python3"
  },
  "language_info": {
   "codemirror_mode": {
    "name": "ipython",
    "version": 3
   },
   "file_extension": ".py",
   "mimetype": "text/x-python",
   "name": "python",
   "nbconvert_exporter": "python",
   "pygments_lexer": "ipython3",
   "version": "3.12.4"
  }
 },
 "nbformat": 4,
 "nbformat_minor": 5
}
