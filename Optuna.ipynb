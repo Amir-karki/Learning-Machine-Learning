{
 "cells": [
  {
   "cell_type": "code",
   "execution_count": 8,
   "id": "45c038c3-6421-4dd1-95bd-a873be1352d5",
   "metadata": {},
   "outputs": [],
   "source": [
    "import numpy as np\n",
    "import pandas as pd\n",
    "import optuna\n",
    "from sklearn.preprocessing import StandardScaler\n",
    "from sklearn.model_selection import train_test_split\n",
    "from sklearn.metrics import accuracy_score"
   ]
  },
  {
   "cell_type": "code",
   "execution_count": 12,
   "id": "2b6561d6-0900-4fae-a60d-693e27355c74",
   "metadata": {},
   "outputs": [
    {
     "data": {
      "text/html": [
       "<div>\n",
       "<style scoped>\n",
       "    .dataframe tbody tr th:only-of-type {\n",
       "        vertical-align: middle;\n",
       "    }\n",
       "\n",
       "    .dataframe tbody tr th {\n",
       "        vertical-align: top;\n",
       "    }\n",
       "\n",
       "    .dataframe thead th {\n",
       "        text-align: right;\n",
       "    }\n",
       "</style>\n",
       "<table border=\"1\" class=\"dataframe\">\n",
       "  <thead>\n",
       "    <tr style=\"text-align: right;\">\n",
       "      <th></th>\n",
       "      <th>Pregnancies</th>\n",
       "      <th>Glucose</th>\n",
       "      <th>BloodPressure</th>\n",
       "      <th>SkinThickness</th>\n",
       "      <th>Insulin</th>\n",
       "      <th>BMI</th>\n",
       "      <th>DiabetesPedigreeFunction</th>\n",
       "      <th>Age</th>\n",
       "      <th>Outcome</th>\n",
       "    </tr>\n",
       "  </thead>\n",
       "  <tbody>\n",
       "    <tr>\n",
       "      <th>0</th>\n",
       "      <td>6</td>\n",
       "      <td>148</td>\n",
       "      <td>72</td>\n",
       "      <td>35</td>\n",
       "      <td>0</td>\n",
       "      <td>33.6</td>\n",
       "      <td>0.627</td>\n",
       "      <td>50</td>\n",
       "      <td>1</td>\n",
       "    </tr>\n",
       "    <tr>\n",
       "      <th>1</th>\n",
       "      <td>1</td>\n",
       "      <td>85</td>\n",
       "      <td>66</td>\n",
       "      <td>29</td>\n",
       "      <td>0</td>\n",
       "      <td>26.6</td>\n",
       "      <td>0.351</td>\n",
       "      <td>31</td>\n",
       "      <td>0</td>\n",
       "    </tr>\n",
       "    <tr>\n",
       "      <th>2</th>\n",
       "      <td>8</td>\n",
       "      <td>183</td>\n",
       "      <td>64</td>\n",
       "      <td>0</td>\n",
       "      <td>0</td>\n",
       "      <td>23.3</td>\n",
       "      <td>0.672</td>\n",
       "      <td>32</td>\n",
       "      <td>1</td>\n",
       "    </tr>\n",
       "    <tr>\n",
       "      <th>3</th>\n",
       "      <td>1</td>\n",
       "      <td>89</td>\n",
       "      <td>66</td>\n",
       "      <td>23</td>\n",
       "      <td>94</td>\n",
       "      <td>28.1</td>\n",
       "      <td>0.167</td>\n",
       "      <td>21</td>\n",
       "      <td>0</td>\n",
       "    </tr>\n",
       "    <tr>\n",
       "      <th>4</th>\n",
       "      <td>0</td>\n",
       "      <td>137</td>\n",
       "      <td>40</td>\n",
       "      <td>35</td>\n",
       "      <td>168</td>\n",
       "      <td>43.1</td>\n",
       "      <td>2.288</td>\n",
       "      <td>33</td>\n",
       "      <td>1</td>\n",
       "    </tr>\n",
       "  </tbody>\n",
       "</table>\n",
       "</div>"
      ],
      "text/plain": [
       "   Pregnancies  Glucose  BloodPressure  SkinThickness  Insulin   BMI  \\\n",
       "0            6      148             72             35        0  33.6   \n",
       "1            1       85             66             29        0  26.6   \n",
       "2            8      183             64              0        0  23.3   \n",
       "3            1       89             66             23       94  28.1   \n",
       "4            0      137             40             35      168  43.1   \n",
       "\n",
       "   DiabetesPedigreeFunction  Age  Outcome  \n",
       "0                     0.627   50        1  \n",
       "1                     0.351   31        0  \n",
       "2                     0.672   32        1  \n",
       "3                     0.167   21        0  \n",
       "4                     2.288   33        1  "
      ]
     },
     "execution_count": 12,
     "metadata": {},
     "output_type": "execute_result"
    }
   ],
   "source": [
    "url = \"https://raw.githubusercontent.com/jbrownlee/Datasets/master/pima-indians-diabetes.data.csv\"\n",
    "columns = ['Pregnancies', 'Glucose', 'BloodPressure', 'SkinThickness', 'Insulin', 'BMI',\n",
    "           'DiabetesPedigreeFunction', 'Age', 'Outcome']\n",
    "df = pd.read_csv(url, names=columns)\n",
    "df.head()"
   ]
  },
  {
   "cell_type": "code",
   "execution_count": 34,
   "id": "75b89979-78a1-4073-a336-0a301d53d727",
   "metadata": {},
   "outputs": [],
   "source": [
    "cols_with_missing =  ['Glucose', 'BloodPressure', 'SkinThickness', 'Insulin', 'BMI']\n",
    "df[cols_with_missing] = df[cols_with_missing].replace(0, np.nan)"
   ]
  },
  {
   "cell_type": "code",
   "execution_count": 42,
   "id": "79e90dd5-0251-409a-950b-ec9fc1dd67ca",
   "metadata": {},
   "outputs": [
    {
     "name": "stdout",
     "output_type": "stream",
     "text": [
      "Pregnancies                 0\n",
      "Glucose                     0\n",
      "BloodPressure               0\n",
      "SkinThickness               0\n",
      "Insulin                     0\n",
      "BMI                         0\n",
      "DiabetesPedigreeFunction    0\n",
      "Age                         0\n",
      "Outcome                     0\n",
      "dtype: int64\n"
     ]
    }
   ],
   "source": [
    "df.fillna(df.mean(), inplace=True)\n",
    "print(df.isnull().sum())"
   ]
  },
  {
   "cell_type": "code",
   "execution_count": 50,
   "id": "587db68d-3ec9-4a8b-bf2c-275a420ccb67",
   "metadata": {},
   "outputs": [],
   "source": [
    "y = df[\"Outcome\"]\n",
    "X = df.drop(columns=[\"Outcome\"])\n",
    "X_train, X_test, y_train, y_test = train_test_split(X, y, test_size=0.2, random_state=42)"
   ]
  },
  {
   "cell_type": "code",
   "execution_count": 52,
   "id": "5e4a5b0a-41a2-4919-b71b-e20d330b9fc2",
   "metadata": {},
   "outputs": [],
   "source": [
    "scaler = StandardScaler()\n",
    "X_train = scaler.fit_transform(X_train)\n",
    "X_test = scaler.transform(X_test)"
   ]
  },
  {
   "cell_type": "code",
   "execution_count": 60,
   "id": "e7a570f5-c710-44ec-aa46-7f72975bf798",
   "metadata": {},
   "outputs": [],
   "source": [
    "from sklearn.ensemble import RandomForestClassifier\n",
    "from sklearn.model_selection import cross_val_score\n",
    "\n",
    "def objective(trial):\n",
    "    n_estimators = trial.suggest_int('n_estimators', 50, 200)\n",
    "    max_depth = trial.suggest_int('max_depth', 5, 18)\n",
    "    model = RandomForestClassifier(n_estimators=n_estimators, max_depth=max_depth, random_state=42)\n",
    "    score = cross_val_score(model, X_train, y_train, cv=4, scoring='accuracy').mean()\n",
    "    return score"
   ]
  },
  {
   "cell_type": "code",
   "execution_count": 62,
   "id": "7e55bd1f-e2cb-4447-8c8a-1b7aae101a2c",
   "metadata": {},
   "outputs": [
    {
     "name": "stderr",
     "output_type": "stream",
     "text": [
      "[I 2025-05-14 17:01:51,443] A new study created in memory with name: no-name-f196d113-52e8-40c8-ae9f-755d619ae9e9\n",
      "[I 2025-05-14 17:01:52,831] Trial 0 finished with value: 0.7670825906120023 and parameters: {'n_estimators': 92, 'max_depth': 13}. Best is trial 0 with value: 0.7670825906120023.\n",
      "[I 2025-05-14 17:01:55,670] Trial 1 finished with value: 0.7654698242933538 and parameters: {'n_estimators': 182, 'max_depth': 10}. Best is trial 0 with value: 0.7670825906120023.\n",
      "[I 2025-05-14 17:01:57,736] Trial 2 finished with value: 0.7605996944232238 and parameters: {'n_estimators': 131, 'max_depth': 15}. Best is trial 0 with value: 0.7670825906120023.\n",
      "[I 2025-05-14 17:02:00,560] Trial 3 finished with value: 0.776844070961718 and parameters: {'n_estimators': 179, 'max_depth': 13}. Best is trial 3 with value: 0.776844070961718.\n",
      "[I 2025-05-14 17:02:03,183] Trial 4 finished with value: 0.7736291486291486 and parameters: {'n_estimators': 177, 'max_depth': 9}. Best is trial 3 with value: 0.776844070961718.\n",
      "[I 2025-05-14 17:02:06,150] Trial 5 finished with value: 0.7784780578898225 and parameters: {'n_estimators': 200, 'max_depth': 7}. Best is trial 5 with value: 0.7784780578898225.\n",
      "[I 2025-05-14 17:02:08,147] Trial 6 finished with value: 0.7784674475850946 and parameters: {'n_estimators': 135, 'max_depth': 7}. Best is trial 5 with value: 0.7784780578898225.\n",
      "[I 2025-05-14 17:02:09,277] Trial 7 finished with value: 0.7670932009167303 and parameters: {'n_estimators': 73, 'max_depth': 8}. Best is trial 5 with value: 0.7784780578898225.\n",
      "[I 2025-05-14 17:02:10,344] Trial 8 finished with value: 0.7719633307868602 and parameters: {'n_estimators': 69, 'max_depth': 8}. Best is trial 5 with value: 0.7784780578898225.\n",
      "[I 2025-05-14 17:02:13,140] Trial 9 finished with value: 0.7751994737288854 and parameters: {'n_estimators': 182, 'max_depth': 11}. Best is trial 5 with value: 0.7784780578898225.\n",
      "[I 2025-05-14 17:02:15,358] Trial 10 finished with value: 0.7654592139886257 and parameters: {'n_estimators': 154, 'max_depth': 5}. Best is trial 5 with value: 0.7784780578898225.\n",
      "[I 2025-05-14 17:02:17,116] Trial 11 finished with value: 0.7736185383244207 and parameters: {'n_estimators': 112, 'max_depth': 6}. Best is trial 5 with value: 0.7784780578898225.\n",
      "[I 2025-05-14 17:02:19,423] Trial 12 finished with value: 0.7703505644682115 and parameters: {'n_estimators': 140, 'max_depth': 18}. Best is trial 5 with value: 0.7784780578898225.\n",
      "[I 2025-05-14 17:02:22,335] Trial 13 finished with value: 0.7784780578898225 and parameters: {'n_estimators': 198, 'max_depth': 7}. Best is trial 5 with value: 0.7784780578898225.\n",
      "[I 2025-05-14 17:02:25,188] Trial 14 finished with value: 0.7687271878448348 and parameters: {'n_estimators': 197, 'max_depth': 5}. Best is trial 5 with value: 0.7784780578898225.\n",
      "[I 2025-05-14 17:02:28,142] Trial 15 finished with value: 0.7768440709617179 and parameters: {'n_estimators': 199, 'max_depth': 7}. Best is trial 5 with value: 0.7784780578898225.\n",
      "[I 2025-05-14 17:02:30,656] Trial 16 finished with value: 0.7670932009167303 and parameters: {'n_estimators': 162, 'max_depth': 10}. Best is trial 5 with value: 0.7784780578898225.\n",
      "[I 2025-05-14 17:02:33,160] Trial 17 finished with value: 0.7638146167557932 and parameters: {'n_estimators': 160, 'max_depth': 12}. Best is trial 5 with value: 0.7784780578898225.\n",
      "[I 2025-05-14 17:02:34,891] Trial 18 finished with value: 0.7622230710466005 and parameters: {'n_estimators': 108, 'max_depth': 16}. Best is trial 5 with value: 0.7784780578898225.\n",
      "[I 2025-05-14 17:02:37,896] Trial 19 finished with value: 0.7784780578898225 and parameters: {'n_estimators': 200, 'max_depth': 7}. Best is trial 5 with value: 0.7784780578898225.\n",
      "[I 2025-05-14 17:02:40,176] Trial 20 finished with value: 0.7654804345980817 and parameters: {'n_estimators': 153, 'max_depth': 9}. Best is trial 5 with value: 0.7784780578898225.\n",
      "[I 2025-05-14 17:02:43,041] Trial 21 finished with value: 0.7703505644682115 and parameters: {'n_estimators': 200, 'max_depth': 6}. Best is trial 5 with value: 0.7784780578898225.\n",
      "[I 2025-05-14 17:02:45,862] Trial 22 finished with value: 0.7768440709617179 and parameters: {'n_estimators': 188, 'max_depth': 7}. Best is trial 5 with value: 0.7784780578898225.\n",
      "[I 2025-05-14 17:02:48,425] Trial 23 finished with value: 0.7719739410915881 and parameters: {'n_estimators': 171, 'max_depth': 8}. Best is trial 5 with value: 0.7784780578898225.\n",
      "[I 2025-05-14 17:02:51,189] Trial 24 finished with value: 0.7687165775401069 and parameters: {'n_estimators': 190, 'max_depth': 6}. Best is trial 5 with value: 0.7784780578898225.\n",
      "[I 2025-05-14 17:02:53,754] Trial 25 finished with value: 0.7736397589338765 and parameters: {'n_estimators': 168, 'max_depth': 9}. Best is trial 5 with value: 0.7784780578898225.\n",
      "[I 2025-05-14 17:02:56,449] Trial 26 finished with value: 0.7654698242933538 and parameters: {'n_estimators': 191, 'max_depth': 5}. Best is trial 5 with value: 0.7784780578898225.\n",
      "[I 2025-05-14 17:02:58,656] Trial 27 finished with value: 0.7719739410915881 and parameters: {'n_estimators': 145, 'max_depth': 10}. Best is trial 5 with value: 0.7784780578898225.\n",
      "[I 2025-05-14 17:03:01,150] Trial 28 finished with value: 0.7719527204821323 and parameters: {'n_estimators': 171, 'max_depth': 7}. Best is trial 5 with value: 0.7784780578898225.\n",
      "[I 2025-05-14 17:03:02,520] Trial 29 finished with value: 0.7719739410915881 and parameters: {'n_estimators': 88, 'max_depth': 11}. Best is trial 5 with value: 0.7784780578898225.\n",
      "[I 2025-05-14 17:03:05,379] Trial 30 finished with value: 0.7703293438587556 and parameters: {'n_estimators': 190, 'max_depth': 8}. Best is trial 5 with value: 0.7784780578898225.\n",
      "[I 2025-05-14 17:03:06,145] Trial 31 finished with value: 0.7719739410915881 and parameters: {'n_estimators': 50, 'max_depth': 7}. Best is trial 5 with value: 0.7784780578898225.\n",
      "[I 2025-05-14 17:03:07,935] Trial 32 finished with value: 0.7703823953823954 and parameters: {'n_estimators': 115, 'max_depth': 6}. Best is trial 5 with value: 0.7784780578898225.\n",
      "[I 2025-05-14 17:03:09,891] Trial 33 finished with value: 0.7655228758169934 and parameters: {'n_estimators': 124, 'max_depth': 9}. Best is trial 5 with value: 0.7784780578898225.\n",
      "[I 2025-05-14 17:03:12,666] Trial 34 finished with value: 0.7719739410915881 and parameters: {'n_estimators': 176, 'max_depth': 14}. Best is trial 5 with value: 0.7784780578898225.\n",
      "[I 2025-05-14 17:03:14,019] Trial 35 finished with value: 0.7817566420507597 and parameters: {'n_estimators': 93, 'max_depth': 7}. Best is trial 35 with value: 0.7817566420507597.\n",
      "[I 2025-05-14 17:03:15,423] Trial 36 finished with value: 0.7719739410915881 and parameters: {'n_estimators': 90, 'max_depth': 10}. Best is trial 35 with value: 0.7817566420507597.\n",
      "[I 2025-05-14 17:03:16,932] Trial 37 finished with value: 0.7720163823105 and parameters: {'n_estimators': 99, 'max_depth': 6}. Best is trial 35 with value: 0.7817566420507597.\n",
      "[I 2025-05-14 17:03:18,097] Trial 38 finished with value: 0.7654698242933538 and parameters: {'n_estimators': 74, 'max_depth': 8}. Best is trial 35 with value: 0.7817566420507597.\n",
      "[I 2025-05-14 17:03:20,707] Trial 39 finished with value: 0.7654698242933538 and parameters: {'n_estimators': 183, 'max_depth': 5}. Best is trial 35 with value: 0.7817566420507597.\n"
     ]
    }
   ],
   "source": [
    "study = optuna.create_study(direction='maximize', sampler=optuna.samplers.TPESampler())\n",
    "study.optimize(objective, n_trials=40)"
   ]
  },
  {
   "cell_type": "code",
   "execution_count": 64,
   "id": "c8ceec1b-fa79-4a81-bebb-ce7e073b7ae4",
   "metadata": {},
   "outputs": [
    {
     "name": "stdout",
     "output_type": "stream",
     "text": [
      "Best Trial Accuracy:  0.7817566420507597\n",
      "Best Hyperparameters:  {'n_estimators': 93, 'max_depth': 7}\n"
     ]
    }
   ],
   "source": [
    "print(f\"Best Trial Accuracy: \", study.best_trial.value)\n",
    "print(f\"Best Hyperparameters: \", study.best_trial.params)"
   ]
  },
  {
   "cell_type": "code",
   "execution_count": 66,
   "id": "f326b144-d6c3-4e6f-8aa0-1dd41e026565",
   "metadata": {},
   "outputs": [
    {
     "name": "stdout",
     "output_type": "stream",
     "text": [
      "0.7467532467532467\n"
     ]
    }
   ],
   "source": [
    "new_model = RandomForestClassifier(n_estimators=93, max_depth=7)\n",
    "new_model.fit(X_train, y_train)\n",
    "pred = new_model.predict(X_test)\n",
    "print(accuracy_score(y_test, pred))"
   ]
  },
  {
   "cell_type": "code",
   "execution_count": 68,
   "id": "763e3837-338d-4754-9465-eccbfe8485a6",
   "metadata": {},
   "outputs": [],
   "source": [
    "# Choosing the right model using optimization technique of Optuna"
   ]
  },
  {
   "cell_type": "code",
   "execution_count": 70,
   "id": "a11ea859-cdb0-41f7-9407-e54a55aae46d",
   "metadata": {},
   "outputs": [],
   "source": [
    "from sklearn.ensemble import RandomForestClassifier, GradientBoostingClassifier\n",
    "from sklearn.svm import SVC"
   ]
  },
  {
   "cell_type": "code",
   "execution_count": 82,
   "id": "47d747d8-0159-4492-9f7e-da3d335ec2c8",
   "metadata": {},
   "outputs": [],
   "source": [
    "def objective(trial):\n",
    "    classifier_names = trial.suggest_categorical('classifier', ['RandomForest', 'GradientBoosting', 'SVM'])\n",
    "    if classifier_names == 'RandomForest':\n",
    "         n_estimators = trial.suggest_int('n_estimators', 50, 300)\n",
    "         max_depth = trial.suggest_int('max_depth', 3, 20)\n",
    "         min_samples_split = trial.suggest_int('min_samples_split', 2, 10)\n",
    "         min_samples_leaf = trial.suggest_int('min_samples_leaf', 1, 10)\n",
    "         bootstrap = trial.suggest_categorical('bootstrap', [True, False])\n",
    "\n",
    "         model = RandomForestClassifier(\n",
    "            n_estimators=n_estimators,\n",
    "            max_depth=max_depth,\n",
    "            min_samples_split=min_samples_split,\n",
    "            min_samples_leaf=min_samples_leaf,\n",
    "            bootstrap=bootstrap,\n",
    "            random_state=42\n",
    "         )\n",
    "    elif classifier_names == 'GradientBoosting':\n",
    "        n_estimators = trial.suggest_int('n_estimators', 50, 300)\n",
    "        learning_rate = trial.suggest_float('learning_rate', 0.01, 0.3, log=True)\n",
    "        max_depth = trial.suggest_int('max_depth', 3, 20)\n",
    "        min_samples_split = trial.suggest_int('min_samples_split', 2, 10)\n",
    "        min_samples_leaf = trial.suggest_int('min_samples_leaf', 1, 10)\n",
    "\n",
    "        model = GradientBoostingClassifier(\n",
    "            n_estimators=n_estimators,\n",
    "            learning_rate=learning_rate,\n",
    "            max_depth=max_depth,\n",
    "            min_samples_split=min_samples_split,\n",
    "            min_samples_leaf=min_samples_leaf,\n",
    "            random_state=42\n",
    "        )\n",
    "    elif classifier_names == 'SVM':\n",
    "        # SVM hyperparameters\n",
    "        c = trial.suggest_float('C', 0.1, 100, log=True)\n",
    "        kernel = trial.suggest_categorical('kernel', ['linear', 'rbf', 'poly', 'sigmoid'])\n",
    "        gamma = trial.suggest_categorical('gamma', ['scale', 'auto'])\n",
    "\n",
    "        model = SVC(C=c, kernel=kernel, gamma=gamma, random_state=42)\n",
    "\n",
    "    score = cross_val_score(model, X_train, y_train, cv=3, scoring='accuracy').mean()\n",
    "    return score\n",
    "       "
   ]
  },
  {
   "cell_type": "code",
   "execution_count": 84,
   "id": "5dd48127-39de-4888-b677-5868cca98a00",
   "metadata": {},
   "outputs": [
    {
     "name": "stderr",
     "output_type": "stream",
     "text": [
      "[I 2025-05-14 17:45:56,830] A new study created in memory with name: no-name-7a49e122-a714-41c2-af3f-7f2046025268\n",
      "[I 2025-05-14 17:46:03,919] Trial 0 finished with value: 0.7671209947393591 and parameters: {'classifier': 'GradientBoosting', 'n_estimators': 193, 'learning_rate': 0.11987545890650372, 'max_depth': 19, 'min_samples_split': 10, 'min_samples_leaf': 7}. Best is trial 0 with value: 0.7671209947393591.\n",
      "[I 2025-05-14 17:46:06,209] Trial 1 finished with value: 0.7703331739199745 and parameters: {'classifier': 'RandomForest', 'n_estimators': 212, 'max_depth': 11, 'min_samples_split': 3, 'min_samples_leaf': 9, 'bootstrap': True}. Best is trial 1 with value: 0.7703331739199745.\n",
      "[I 2025-05-14 17:46:15,314] Trial 2 finished with value: 0.7459429300175354 and parameters: {'classifier': 'GradientBoosting', 'n_estimators': 253, 'learning_rate': 0.05353028492079257, 'max_depth': 12, 'min_samples_split': 3, 'min_samples_leaf': 6}. Best is trial 1 with value: 0.7703331739199745.\n",
      "[I 2025-05-14 17:46:15,389] Trial 3 finished with value: 0.7703491152558585 and parameters: {'classifier': 'SVM', 'C': 0.11387412872052152, 'kernel': 'linear', 'gamma': 'auto'}. Best is trial 3 with value: 0.7703491152558585.\n",
      "[I 2025-05-14 17:46:15,451] Trial 4 finished with value: 0.7312848716722461 and parameters: {'classifier': 'SVM', 'C': 2.5703724597699087, 'kernel': 'poly', 'gamma': 'scale'}. Best is trial 3 with value: 0.7703491152558585.\n",
      "[I 2025-05-14 17:46:18,020] Trial 5 finished with value: 0.7459110473457676 and parameters: {'classifier': 'RandomForest', 'n_estimators': 261, 'max_depth': 3, 'min_samples_split': 9, 'min_samples_leaf': 7, 'bootstrap': True}. Best is trial 3 with value: 0.7703491152558585.\n",
      "[I 2025-05-14 17:46:18,495] Trial 6 finished with value: 0.7670811413996493 and parameters: {'classifier': 'RandomForest', 'n_estimators': 58, 'max_depth': 4, 'min_samples_split': 10, 'min_samples_leaf': 3, 'bootstrap': False}. Best is trial 3 with value: 0.7703491152558585.\n",
      "[I 2025-05-14 17:46:18,570] Trial 7 finished with value: 0.7703252032520326 and parameters: {'classifier': 'SVM', 'C': 1.834878841117431, 'kernel': 'linear', 'gamma': 'auto'}. Best is trial 3 with value: 0.7703491152558585.\n",
      "[I 2025-05-14 17:46:19,457] Trial 8 finished with value: 0.7752271640363463 and parameters: {'classifier': 'RandomForest', 'n_estimators': 77, 'max_depth': 14, 'min_samples_split': 8, 'min_samples_leaf': 4, 'bootstrap': True}. Best is trial 8 with value: 0.7752271640363463.\n",
      "[I 2025-05-14 17:46:19,974] Trial 9 finished with value: 0.7654471544715448 and parameters: {'classifier': 'RandomForest', 'n_estimators': 62, 'max_depth': 6, 'min_samples_split': 8, 'min_samples_leaf': 9, 'bootstrap': False}. Best is trial 8 with value: 0.7752271640363463.\n",
      "[I 2025-05-14 17:46:21,482] Trial 10 finished with value: 0.7687151283277539 and parameters: {'classifier': 'RandomForest', 'n_estimators': 134, 'max_depth': 19, 'min_samples_split': 6, 'min_samples_leaf': 2, 'bootstrap': True}. Best is trial 8 with value: 0.7752271640363463.\n",
      "[I 2025-05-14 17:46:21,539] Trial 11 finished with value: 0.7670811413996493 and parameters: {'classifier': 'SVM', 'C': 0.13142280034295017, 'kernel': 'linear', 'gamma': 'auto'}. Best is trial 8 with value: 0.7752271640363463.\n",
      "[I 2025-05-14 17:46:21,630] Trial 12 finished with value: 0.7540730113183485 and parameters: {'classifier': 'SVM', 'C': 0.12581931634026397, 'kernel': 'sigmoid', 'gamma': 'auto'}. Best is trial 8 with value: 0.7752271640363463.\n",
      "[I 2025-05-14 17:46:21,757] Trial 13 finished with value: 0.6987087517934003 and parameters: {'classifier': 'SVM', 'C': 68.42762597193875, 'kernel': 'rbf', 'gamma': 'scale'}. Best is trial 8 with value: 0.7752271640363463.\n",
      "[I 2025-05-14 17:46:28,303] Trial 14 finished with value: 0.7507970667941973 and parameters: {'classifier': 'GradientBoosting', 'n_estimators': 132, 'learning_rate': 0.012219657517257475, 'max_depth': 13, 'min_samples_split': 6, 'min_samples_leaf': 4}. Best is trial 8 with value: 0.7752271640363463.\n",
      "[I 2025-05-14 17:46:29,656] Trial 15 finished with value: 0.7703491152558585 and parameters: {'classifier': 'RandomForest', 'n_estimators': 116, 'max_depth': 15, 'min_samples_split': 7, 'min_samples_leaf': 1, 'bootstrap': True}. Best is trial 8 with value: 0.7752271640363463.\n",
      "[I 2025-05-14 17:46:30,081] Trial 16 finished with value: 0.7686991869918699 and parameters: {'classifier': 'SVM', 'C': 32.498863679802646, 'kernel': 'linear', 'gamma': 'auto'}. Best is trial 8 with value: 0.7752271640363463.\n",
      "[I 2025-05-14 17:46:30,139] Trial 17 finished with value: 0.7263908815558744 and parameters: {'classifier': 'SVM', 'C': 0.40138051521186713, 'kernel': 'poly', 'gamma': 'auto'}. Best is trial 8 with value: 0.7752271640363463.\n",
      "[I 2025-05-14 17:46:31,250] Trial 18 finished with value: 0.7736011477761836 and parameters: {'classifier': 'RandomForest', 'n_estimators': 100, 'max_depth': 9, 'min_samples_split': 5, 'min_samples_leaf': 4, 'bootstrap': True}. Best is trial 8 with value: 0.7752271640363463.\n",
      "[I 2025-05-14 17:46:32,294] Trial 19 finished with value: 0.7719591901801371 and parameters: {'classifier': 'RandomForest', 'n_estimators': 93, 'max_depth': 8, 'min_samples_split': 5, 'min_samples_leaf': 4, 'bootstrap': True}. Best is trial 8 with value: 0.7752271640363463.\n",
      "[I 2025-05-14 17:46:34,059] Trial 20 finished with value: 0.7703331739199745 and parameters: {'classifier': 'RandomForest', 'n_estimators': 159, 'max_depth': 9, 'min_samples_split': 4, 'min_samples_leaf': 5, 'bootstrap': True}. Best is trial 8 with value: 0.7752271640363463.\n",
      "[I 2025-05-14 17:46:35,012] Trial 21 finished with value: 0.7638291088793241 and parameters: {'classifier': 'RandomForest', 'n_estimators': 89, 'max_depth': 7, 'min_samples_split': 5, 'min_samples_leaf': 4, 'bootstrap': True}. Best is trial 8 with value: 0.7752271640363463.\n",
      "[I 2025-05-14 17:46:36,048] Trial 22 finished with value: 0.7768531802965088 and parameters: {'classifier': 'RandomForest', 'n_estimators': 90, 'max_depth': 9, 'min_samples_split': 5, 'min_samples_leaf': 4, 'bootstrap': True}. Best is trial 22 with value: 0.7768531802965088.\n",
      "[I 2025-05-14 17:46:37,147] Trial 23 finished with value: 0.771983102183963 and parameters: {'classifier': 'RandomForest', 'n_estimators': 97, 'max_depth': 15, 'min_samples_split': 7, 'min_samples_leaf': 3, 'bootstrap': True}. Best is trial 22 with value: 0.7768531802965088.\n",
      "[I 2025-05-14 17:46:37,722] Trial 24 finished with value: 0.7687151283277539 and parameters: {'classifier': 'RandomForest', 'n_estimators': 50, 'max_depth': 10, 'min_samples_split': 5, 'min_samples_leaf': 5, 'bootstrap': True}. Best is trial 22 with value: 0.7768531802965088.\n",
      "[I 2025-05-14 17:46:39,243] Trial 25 finished with value: 0.7703092619161486 and parameters: {'classifier': 'RandomForest', 'n_estimators': 158, 'max_depth': 16, 'min_samples_split': 2, 'min_samples_leaf': 3, 'bootstrap': False}. Best is trial 22 with value: 0.7768531802965088.\n",
      "[I 2025-05-14 17:46:40,214] Trial 26 finished with value: 0.7784791965566714 and parameters: {'classifier': 'RandomForest', 'n_estimators': 85, 'max_depth': 13, 'min_samples_split': 7, 'min_samples_leaf': 6, 'bootstrap': True}. Best is trial 26 with value: 0.7784791965566714.\n",
      "[I 2025-05-14 17:46:42,991] Trial 27 finished with value: 0.7540650406504065 and parameters: {'classifier': 'GradientBoosting', 'n_estimators': 75, 'learning_rate': 0.2886627908746741, 'max_depth': 13, 'min_samples_split': 8, 'min_samples_leaf': 6}. Best is trial 26 with value: 0.7784791965566714.\n",
      "[I 2025-05-14 17:46:44,282] Trial 28 finished with value: 0.7687151283277539 and parameters: {'classifier': 'RandomForest', 'n_estimators': 118, 'max_depth': 17, 'min_samples_split': 7, 'min_samples_leaf': 8, 'bootstrap': True}. Best is trial 26 with value: 0.7784791965566714.\n",
      "[I 2025-05-14 17:46:54,297] Trial 29 finished with value: 0.7670811413996493 and parameters: {'classifier': 'GradientBoosting', 'n_estimators': 296, 'learning_rate': 0.010774743811772102, 'max_depth': 14, 'min_samples_split': 8, 'min_samples_leaf': 7}. Best is trial 26 with value: 0.7784791965566714.\n",
      "[I 2025-05-14 17:46:55,250] Trial 30 finished with value: 0.771967160848079 and parameters: {'classifier': 'RandomForest', 'n_estimators': 83, 'max_depth': 11, 'min_samples_split': 9, 'min_samples_leaf': 5, 'bootstrap': True}. Best is trial 26 with value: 0.7784791965566714.\n",
      "[I 2025-05-14 17:46:56,460] Trial 31 finished with value: 0.7735931771082417 and parameters: {'classifier': 'RandomForest', 'n_estimators': 109, 'max_depth': 9, 'min_samples_split': 4, 'min_samples_leaf': 4, 'bootstrap': True}. Best is trial 26 with value: 0.7784791965566714.\n",
      "[I 2025-05-14 17:46:57,328] Trial 32 finished with value: 0.7703570859238004 and parameters: {'classifier': 'RandomForest', 'n_estimators': 76, 'max_depth': 6, 'min_samples_split': 6, 'min_samples_leaf': 2, 'bootstrap': True}. Best is trial 26 with value: 0.7784791965566714.\n",
      "[I 2025-05-14 17:46:58,928] Trial 33 finished with value: 0.7768452096285668 and parameters: {'classifier': 'RandomForest', 'n_estimators': 149, 'max_depth': 12, 'min_samples_split': 6, 'min_samples_leaf': 6, 'bootstrap': True}. Best is trial 26 with value: 0.7784791965566714.\n",
      "[I 2025-05-14 17:47:00,534] Trial 34 finished with value: 0.7768452096285668 and parameters: {'classifier': 'RandomForest', 'n_estimators': 142, 'max_depth': 12, 'min_samples_split': 7, 'min_samples_leaf': 6, 'bootstrap': True}. Best is trial 26 with value: 0.7784791965566714.\n",
      "[I 2025-05-14 17:47:02,103] Trial 35 finished with value: 0.7735931771082417 and parameters: {'classifier': 'RandomForest', 'n_estimators': 147, 'max_depth': 12, 'min_samples_split': 6, 'min_samples_leaf': 6, 'bootstrap': True}. Best is trial 26 with value: 0.7784791965566714.\n",
      "[I 2025-05-14 17:47:03,697] Trial 36 finished with value: 0.7735772357723577 and parameters: {'classifier': 'RandomForest', 'n_estimators': 182, 'max_depth': 10, 'min_samples_split': 7, 'min_samples_leaf': 8, 'bootstrap': False}. Best is trial 26 with value: 0.7784791965566714.\n",
      "[I 2025-05-14 17:47:08,848] Trial 37 finished with value: 0.7556591742388012 and parameters: {'classifier': 'GradientBoosting', 'n_estimators': 134, 'learning_rate': 0.03920297932928531, 'max_depth': 13, 'min_samples_split': 6, 'min_samples_leaf': 6}. Best is trial 26 with value: 0.7784791965566714.\n",
      "[I 2025-05-14 17:47:11,076] Trial 38 finished with value: 0.7638291088793241 and parameters: {'classifier': 'RandomForest', 'n_estimators': 198, 'max_depth': 11, 'min_samples_split': 7, 'min_samples_leaf': 7, 'bootstrap': True}. Best is trial 26 with value: 0.7784791965566714.\n",
      "[I 2025-05-14 17:47:13,047] Trial 39 finished with value: 0.771975131516021 and parameters: {'classifier': 'RandomForest', 'n_estimators': 175, 'max_depth': 17, 'min_samples_split': 4, 'min_samples_leaf': 8, 'bootstrap': True}. Best is trial 26 with value: 0.7784791965566714.\n"
     ]
    }
   ],
   "source": [
    "study = optuna.create_study(direction='maximize')\n",
    "study.optimize(objective, n_trials=40)"
   ]
  },
  {
   "cell_type": "code",
   "execution_count": 88,
   "id": "b9e1054d-5d9a-47b7-bd3b-77a42376a35e",
   "metadata": {},
   "outputs": [
    {
     "name": "stdout",
     "output_type": "stream",
     "text": [
      "Best Trial Params: {'classifier': 'RandomForest', 'n_estimators': 85, 'max_depth': 13, 'min_samples_split': 7, 'min_samples_leaf': 6, 'bootstrap': True}\n",
      "Best Params accuracy: 0.7784791965566714\n"
     ]
    }
   ],
   "source": [
    "print(f\"Best Trial Params:\", study.best_trial.params)\n",
    "print(f\"Best Params accuracy:\", study.best_trial.value)"
   ]
  },
  {
   "cell_type": "code",
   "execution_count": 96,
   "id": "c7e744e4-95bc-4601-ab27-963e408496e4",
   "metadata": {},
   "outputs": [
    {
     "data": {
      "text/plain": [
       "params_classifier\n",
       "RandomForest        26\n",
       "SVM                  8\n",
       "GradientBoosting     6\n",
       "Name: count, dtype: int64"
      ]
     },
     "execution_count": 96,
     "metadata": {},
     "output_type": "execute_result"
    }
   ],
   "source": [
    "study.trials_dataframe()['params_classifier'].value_counts()"
   ]
  },
  {
   "cell_type": "code",
   "execution_count": 98,
   "id": "75acd4e4-1e06-41a6-a776-855631a15ff3",
   "metadata": {},
   "outputs": [
    {
     "ename": "TypeError",
     "evalue": "'method' object is not subscriptable",
     "output_type": "error",
     "traceback": [
      "\u001b[1;31m---------------------------------------------------------------------------\u001b[0m",
      "\u001b[1;31mTypeError\u001b[0m                                 Traceback (most recent call last)",
      "Cell \u001b[1;32mIn[98], line 1\u001b[0m\n\u001b[1;32m----> 1\u001b[0m \u001b[43mstudy\u001b[49m\u001b[38;5;241;43m.\u001b[39;49m\u001b[43mtrials_dataframe\u001b[49m\u001b[43m(\u001b[49m\u001b[43m)\u001b[49m\u001b[38;5;241;43m.\u001b[39;49m\u001b[43mgroupby\u001b[49m\u001b[43m[\u001b[49m\u001b[38;5;124;43m'\u001b[39;49m\u001b[38;5;124;43mparams_classifier\u001b[39;49m\u001b[38;5;124;43m'\u001b[39;49m\u001b[43m]\u001b[49m[\u001b[38;5;124m'\u001b[39m\u001b[38;5;124mvalue\u001b[39m\u001b[38;5;124m'\u001b[39m]\u001b[38;5;241m.\u001b[39mmean()\n",
      "\u001b[1;31mTypeError\u001b[0m: 'method' object is not subscriptable"
     ]
    }
   ],
   "source": [
    "study.trials_dataframe().groupby['params_classifier']['value'].mean()"
   ]
  },
  {
   "cell_type": "code",
   "execution_count": null,
   "id": "81b0c1a7-7a6a-4be3-8d20-33e03be0256b",
   "metadata": {},
   "outputs": [],
   "source": []
  }
 ],
 "metadata": {
  "kernelspec": {
   "display_name": "Python 3 (ipykernel)",
   "language": "python",
   "name": "python3"
  },
  "language_info": {
   "codemirror_mode": {
    "name": "ipython",
    "version": 3
   },
   "file_extension": ".py",
   "mimetype": "text/x-python",
   "name": "python",
   "nbconvert_exporter": "python",
   "pygments_lexer": "ipython3",
   "version": "3.12.4"
  }
 },
 "nbformat": 4,
 "nbformat_minor": 5
}
