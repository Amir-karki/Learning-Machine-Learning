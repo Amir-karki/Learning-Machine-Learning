{
 "cells": [
  {
   "cell_type": "code",
   "execution_count": 1,
   "id": "4b897599-b72b-4ae8-baab-b7c18cf2d1fe",
   "metadata": {},
   "outputs": [],
   "source": [
    "import numpy as np\n",
    "import pickle"
   ]
  },
  {
   "cell_type": "code",
   "execution_count": 3,
   "id": "0cfb33f3-8879-4bb3-b63a-d74108408b0c",
   "metadata": {},
   "outputs": [],
   "source": [
    "ohe_sex = pickle.load(open('models/ohe_sex.pkl', 'rb'))\n",
    "ohe_embarked = pickle.load(open('models/ohe_embarked.pkl', 'rb'))\n",
    "model = pickle.load(open('models/model.pkl', 'rb'))"
   ]
  },
  {
   "cell_type": "code",
   "execution_count": 15,
   "id": "a8174171-c165-45a2-9466-818c84fbf5aa",
   "metadata": {},
   "outputs": [],
   "source": [
    "test_input = np.array([2, 'male', 22.0, 0, 2, 10.2458, 'S'], dtype='object').reshape(1, 7)"
   ]
  },
  {
   "cell_type": "code",
   "execution_count": 19,
   "id": "90ac226c-09ab-4e88-81ca-38729573fc30",
   "metadata": {},
   "outputs": [
    {
     "data": {
      "text/plain": [
       "array([[2, 'male', 22.0, 0, 2, 10.2458, 'S']], dtype=object)"
      ]
     },
     "execution_count": 19,
     "metadata": {},
     "output_type": "execute_result"
    }
   ],
   "source": [
    "test_input"
   ]
  },
  {
   "cell_type": "code",
   "execution_count": 37,
   "id": "35ae8710-225a-481c-b4ce-b9974a8d5364",
   "metadata": {},
   "outputs": [
    {
     "name": "stderr",
     "output_type": "stream",
     "text": [
      "C:\\Users\\12368\\anaconda3\\Lib\\site-packages\\sklearn\\base.py:493: UserWarning: X does not have valid feature names, but OneHotEncoder was fitted with feature names\n",
      "  warnings.warn(\n",
      "C:\\Users\\12368\\anaconda3\\Lib\\site-packages\\sklearn\\base.py:493: UserWarning: X does not have valid feature names, but OneHotEncoder was fitted with feature names\n",
      "  warnings.warn(\n"
     ]
    }
   ],
   "source": [
    "test_input_sex = ohe_sex.transform(test_input[:, 1].reshape(1, 1))\n",
    "test_input_embarked = ohe_embarked.transform(test_input[:, -1].reshape(1, 1))"
   ]
  },
  {
   "cell_type": "code",
   "execution_count": 39,
   "id": "114fcb52-96cf-4c6f-86de-bd42a8cd8bd9",
   "metadata": {},
   "outputs": [
    {
     "data": {
      "text/plain": [
       "array([[0, 1, 0]])"
      ]
     },
     "execution_count": 39,
     "metadata": {},
     "output_type": "execute_result"
    }
   ],
   "source": [
    "test_input_embarked"
   ]
  },
  {
   "cell_type": "code",
   "execution_count": 41,
   "id": "42ce55e7-0ecd-4bdc-be0b-f347433fe4b1",
   "metadata": {},
   "outputs": [],
   "source": [
    "test_input_age = test_input[:, 2].reshape(1,1)"
   ]
  },
  {
   "cell_type": "code",
   "execution_count": 43,
   "id": "bf698abc-f6d4-465c-994d-eb19de67595b",
   "metadata": {},
   "outputs": [
    {
     "data": {
      "text/plain": [
       "array([[22.0]], dtype=object)"
      ]
     },
     "execution_count": 43,
     "metadata": {},
     "output_type": "execute_result"
    }
   ],
   "source": [
    "test_input_age"
   ]
  },
  {
   "cell_type": "code",
   "execution_count": 47,
   "id": "c6c52d59-3340-4fcb-9420-82996f68bc42",
   "metadata": {},
   "outputs": [],
   "source": [
    "test_input_transformed = np.concatenate((test_input[:, [0, 3, 4, 5]], test_input_sex, test_input_age, test_input_embarked), axis=1)"
   ]
  },
  {
   "cell_type": "code",
   "execution_count": 51,
   "id": "6120db56-e81b-436b-adea-2c54652a0237",
   "metadata": {},
   "outputs": [
    {
     "data": {
      "text/plain": [
       "array([[2, 0, 2, 10.2458, 1, 22.0, 0, 1, 0]], dtype=object)"
      ]
     },
     "execution_count": 51,
     "metadata": {},
     "output_type": "execute_result"
    }
   ],
   "source": [
    "test_input_transformed"
   ]
  },
  {
   "cell_type": "code",
   "execution_count": null,
   "id": "ef3e4de0-56b0-4332-b40d-e4571a263167",
   "metadata": {},
   "outputs": [],
   "source": []
  }
 ],
 "metadata": {
  "kernelspec": {
   "display_name": "Python 3 (ipykernel)",
   "language": "python",
   "name": "python3"
  },
  "language_info": {
   "codemirror_mode": {
    "name": "ipython",
    "version": 3
   },
   "file_extension": ".py",
   "mimetype": "text/x-python",
   "name": "python",
   "nbconvert_exporter": "python",
   "pygments_lexer": "ipython3",
   "version": "3.12.4"
  }
 },
 "nbformat": 4,
 "nbformat_minor": 5
}
