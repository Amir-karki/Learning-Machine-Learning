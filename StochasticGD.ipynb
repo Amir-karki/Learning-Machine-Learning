{
 "cells": [
  {
   "cell_type": "code",
   "execution_count": 19,
   "id": "372dd11a-45aa-462a-b87e-8f692717b899",
   "metadata": {},
   "outputs": [],
   "source": [
    "import numpy as np\n",
    "from sklearn.datasets import load_diabetes\n",
    "from sklearn.model_selection import train_test_split\n",
    "from sklearn.metrics import r2_score\n",
    "from sklearn.linear_model import LinearRegression"
   ]
  },
  {
   "cell_type": "code",
   "execution_count": 20,
   "id": "b9673a73-f18a-4a26-94f7-3adb39a4dc3b",
   "metadata": {},
   "outputs": [],
   "source": [
    "X, y = load_diabetes(return_X_y = True)"
   ]
  },
  {
   "cell_type": "code",
   "execution_count": 21,
   "id": "118443e2-0adf-4bae-9bcc-26c6c43aa544",
   "metadata": {},
   "outputs": [
    {
     "name": "stdout",
     "output_type": "stream",
     "text": [
      "(442, 10)\n",
      "(442,)\n"
     ]
    }
   ],
   "source": [
    "print(X.shape)\n",
    "print(y.shape)"
   ]
  },
  {
   "cell_type": "code",
   "execution_count": 22,
   "id": "7ddc0d2f-e0a1-4bda-a6a7-dfcd3cecad02",
   "metadata": {},
   "outputs": [],
   "source": [
    "X_train, X_test, y_train, y_test = train_test_split(X, y, test_size=0.2, random_state=32)"
   ]
  },
  {
   "cell_type": "code",
   "execution_count": 23,
   "id": "d41e5352-b55f-49ba-a08c-13f850df3e94",
   "metadata": {},
   "outputs": [],
   "source": [
    "model = LinearRegression()\n",
    "model.fit(X_train, y_train)\n",
    "pred = model.predict(X_test)"
   ]
  },
  {
   "cell_type": "code",
   "execution_count": 24,
   "id": "52234585-af32-4f71-88c5-0896b998fb8a",
   "metadata": {},
   "outputs": [
    {
     "name": "stdout",
     "output_type": "stream",
     "text": [
      "[  32.50000078 -274.2083569   501.52744069  368.7931961  -822.31120988\n",
      "  504.23867319  101.57697155  158.16545687  744.91541712   78.40553632]\n",
      "154.31230345901605\n"
     ]
    }
   ],
   "source": [
    "print(model.coef_)\n",
    "print(model.intercept_)"
   ]
  },
  {
   "cell_type": "code",
   "execution_count": 25,
   "id": "bff250af-e182-4b70-a299-814bef291215",
   "metadata": {},
   "outputs": [
    {
     "data": {
      "text/plain": [
       "0.452233879635457"
      ]
     },
     "execution_count": 25,
     "metadata": {},
     "output_type": "execute_result"
    }
   ],
   "source": [
    "r2_score(y_test, pred)"
   ]
  },
  {
   "cell_type": "code",
   "execution_count": 240,
   "id": "b9e2bfc4-b5cf-4c18-949f-a986042e6861",
   "metadata": {},
   "outputs": [],
   "source": [
    "class SGDRegressor:\n",
    "    def __init__(self, learning_rate=0.01, epochs=100):\n",
    "        self.intercept_ = None\n",
    "        self.coef_ = None\n",
    "        self.lr = learning_rate\n",
    "        self.epochs = epochs\n",
    "\n",
    "    def fit(self, X_train, y_train):\n",
    "        # initialize coef and intercept\n",
    "        self.intercept = 0\n",
    "        self.coef = np.ones(X_train.shape[1])\n",
    "        \n",
    "        for i in range(self.epochs):\n",
    "           for j in range(X_train.shape[0]):\n",
    "               idx = np.random.randint(0, X_train.shape[0])\n",
    "               # y_pred of a single value\n",
    "               y_pred = np.dot(X_train[idx], self.coef) + self.intercept\n",
    "               # update slope for intercept\n",
    "               slope_intercept = -2 * (y_train[idx] - y_pred)\n",
    "               self.intercept = self.intercept - (self.lr * slope_intercept)\n",
    "               # update slope for coef\n",
    "               slope_coef = -2 * np.dot((y_train[idx] - y_pred), X_train[idx])\n",
    "               self.coef = self.coef - (self.lr * slope_coef)\n",
    "        print(self.intercept, self.coef)\n",
    "               \n",
    "    def predict(self, X_test):\n",
    "        return np.dot(X_test, self.coef) + self.intercept"
   ]
  },
  {
   "cell_type": "code",
   "execution_count": 242,
   "id": "76d0e547-49c3-4757-9072-1bca9b2b2466",
   "metadata": {},
   "outputs": [
    {
     "name": "stdout",
     "output_type": "stream",
     "text": [
      "140.46377074929816 [  66.050786    -77.37335221  319.88331593  241.33160033   20.41823363\n",
      "  -13.77469311 -174.72613345  135.57272721  283.23567451  146.47623543]\n"
     ]
    }
   ],
   "source": [
    "sgd = SGDRegressor(epochs=40, learning_rate=0.01)\n",
    "sgd.fit(X_train, y_train)"
   ]
  },
  {
   "cell_type": "code",
   "execution_count": 244,
   "id": "65b12c31-1d0f-4c26-94ca-8eec2480cc16",
   "metadata": {},
   "outputs": [],
   "source": [
    "pred = sgd.predict(X_test)"
   ]
  },
  {
   "cell_type": "code",
   "execution_count": 246,
   "id": "7920b549-da78-4988-8f4a-83f17ec400fd",
   "metadata": {},
   "outputs": [
    {
     "name": "stdout",
     "output_type": "stream",
     "text": [
      "0.4336142377809855\n"
     ]
    }
   ],
   "source": [
    "print(r2_score(y_test, sgd.predict(X_test)))"
   ]
  },
  {
   "cell_type": "code",
   "execution_count": null,
   "id": "518c5709-7eeb-4e50-82dc-1f974ec53191",
   "metadata": {},
   "outputs": [],
   "source": []
  },
  {
   "cell_type": "code",
   "execution_count": null,
   "id": "92e2bad5-ebdb-4ee7-8fd9-d63a2c4b8ab4",
   "metadata": {},
   "outputs": [],
   "source": []
  }
 ],
 "metadata": {
  "kernelspec": {
   "display_name": "Python 3 (ipykernel)",
   "language": "python",
   "name": "python3"
  },
  "language_info": {
   "codemirror_mode": {
    "name": "ipython",
    "version": 3
   },
   "file_extension": ".py",
   "mimetype": "text/x-python",
   "name": "python",
   "nbconvert_exporter": "python",
   "pygments_lexer": "ipython3",
   "version": "3.12.4"
  }
 },
 "nbformat": 4,
 "nbformat_minor": 5
}
