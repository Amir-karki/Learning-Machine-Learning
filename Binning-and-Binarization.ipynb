{
 "cells": [
  {
   "cell_type": "markdown",
   "id": "7bb66bc2-ecdf-4c9a-a3ac-f0c6fad144a6",
   "metadata": {},
   "source": [
    "<h5>Binning and Binarization:</h5> are preprocessing techniques used to transform numerical columns to categorical columns. Although, most of the time, numerical data yield better results, there might be some cases when the reverse is true. For example, if you are working on <h6>Appstore dataset</h6> and you have a column called No. of downloads. So, one problem with such columns is that, the most popular apps will have millions, billions downloads while the new ones or so unpopular apps will have very less 10, 20, 100 etc. downloads."
   ]
  },
  {
   "cell_type": "markdown",
   "id": "ce4da70b-408f-4852-af2d-8bbbf762b29a",
   "metadata": {},
   "source": [
    "In such cases, our ranges for the data columns will be significantly greater. so Binning can be useful."
   ]
  },
  {
   "cell_type": "markdown",
   "id": "563cb2c0-7d32-40c8-89ad-fb771ad62386",
   "metadata": {},
   "source": [
    "<h5 style='color: green'>What binning does is, it creates bins/intervals like 1-100, 100-1000, 1000-10K etc and measures the frequency of the value that lies in certain range  in the dataset.</h5>"
   ]
  },
  {
   "cell_type": "code",
   "execution_count": 101,
   "id": "c5779246-69ea-4d8e-bbed-083e8004fddc",
   "metadata": {},
   "outputs": [],
   "source": [
    "import numpy as np\n",
    "import pandas as pd\n",
    "import matplotlib.pyplot as plt\n",
    "\n",
    "from sklearn.model_selection import train_test_split, cross_val_score\n",
    "from sklearn.preprocessing import KBinsDiscretizer\n",
    "from sklearn.metrics import accuracy_score\n",
    "\n",
    "from sklearn.compose import ColumnTransformer\n",
    "from sklearn.tree import DecisionTreeClassifier"
   ]
  },
  {
   "cell_type": "code",
   "execution_count": 102,
   "id": "720fa9a1-3232-42c3-bd58-2d6477e20eb4",
   "metadata": {},
   "outputs": [
    {
     "data": {
      "text/html": [
       "<div>\n",
       "<style scoped>\n",
       "    .dataframe tbody tr th:only-of-type {\n",
       "        vertical-align: middle;\n",
       "    }\n",
       "\n",
       "    .dataframe tbody tr th {\n",
       "        vertical-align: top;\n",
       "    }\n",
       "\n",
       "    .dataframe thead th {\n",
       "        text-align: right;\n",
       "    }\n",
       "</style>\n",
       "<table border=\"1\" class=\"dataframe\">\n",
       "  <thead>\n",
       "    <tr style=\"text-align: right;\">\n",
       "      <th></th>\n",
       "      <th>Survived</th>\n",
       "      <th>Age</th>\n",
       "      <th>Fare</th>\n",
       "    </tr>\n",
       "  </thead>\n",
       "  <tbody>\n",
       "    <tr>\n",
       "      <th>0</th>\n",
       "      <td>0</td>\n",
       "      <td>22.0</td>\n",
       "      <td>7.2500</td>\n",
       "    </tr>\n",
       "    <tr>\n",
       "      <th>1</th>\n",
       "      <td>1</td>\n",
       "      <td>38.0</td>\n",
       "      <td>71.2833</td>\n",
       "    </tr>\n",
       "    <tr>\n",
       "      <th>2</th>\n",
       "      <td>1</td>\n",
       "      <td>26.0</td>\n",
       "      <td>7.9250</td>\n",
       "    </tr>\n",
       "    <tr>\n",
       "      <th>3</th>\n",
       "      <td>1</td>\n",
       "      <td>35.0</td>\n",
       "      <td>53.1000</td>\n",
       "    </tr>\n",
       "    <tr>\n",
       "      <th>4</th>\n",
       "      <td>0</td>\n",
       "      <td>35.0</td>\n",
       "      <td>8.0500</td>\n",
       "    </tr>\n",
       "  </tbody>\n",
       "</table>\n",
       "</div>"
      ],
      "text/plain": [
       "   Survived   Age     Fare\n",
       "0         0  22.0   7.2500\n",
       "1         1  38.0  71.2833\n",
       "2         1  26.0   7.9250\n",
       "3         1  35.0  53.1000\n",
       "4         0  35.0   8.0500"
      ]
     },
     "execution_count": 102,
     "metadata": {},
     "output_type": "execute_result"
    }
   ],
   "source": [
    "df = pd.read_csv('titanic.csv', usecols=['Age', 'Fare', 'Survived'])\n",
    "df.head()"
   ]
  },
  {
   "cell_type": "code",
   "execution_count": 103,
   "id": "6205f907-b29f-4bfd-b39a-a917a8f56484",
   "metadata": {},
   "outputs": [
    {
     "data": {
      "text/plain": [
       "(891, 3)"
      ]
     },
     "execution_count": 103,
     "metadata": {},
     "output_type": "execute_result"
    }
   ],
   "source": [
    "df.shape"
   ]
  },
  {
   "cell_type": "code",
   "execution_count": 104,
   "id": "7334e241-a65d-4cc7-a6f8-c20584ca58e6",
   "metadata": {},
   "outputs": [],
   "source": [
    "df.dropna(inplace=True)"
   ]
  },
  {
   "cell_type": "code",
   "execution_count": 105,
   "id": "1099465d-e5e8-4423-8b66-1b35e7af268a",
   "metadata": {},
   "outputs": [
    {
     "data": {
      "text/plain": [
       "(714, 3)"
      ]
     },
     "execution_count": 105,
     "metadata": {},
     "output_type": "execute_result"
    }
   ],
   "source": [
    "df.shape"
   ]
  },
  {
   "cell_type": "code",
   "execution_count": 106,
   "id": "38043deb-1d3f-4a9f-8322-26edc0fb3d74",
   "metadata": {},
   "outputs": [],
   "source": [
    "y = df.iloc[:, 0]\n",
    "X = df.iloc[:, 1:3]"
   ]
  },
  {
   "cell_type": "code",
   "execution_count": 107,
   "id": "82f15a00-d937-48bd-aa03-438d08ff69cf",
   "metadata": {},
   "outputs": [
    {
     "data": {
      "text/plain": [
       "(714, 2)"
      ]
     },
     "execution_count": 107,
     "metadata": {},
     "output_type": "execute_result"
    }
   ],
   "source": [
    "X.shape"
   ]
  },
  {
   "cell_type": "code",
   "execution_count": 108,
   "id": "59c802eb-ed4a-4657-a053-4e46edd64408",
   "metadata": {},
   "outputs": [],
   "source": [
    "X_train, X_test, y_train, y_test = train_test_split(X, y, test_size=0.2, random_state=42)"
   ]
  },
  {
   "cell_type": "code",
   "execution_count": 109,
   "id": "b711f637-38aa-4d5e-afdf-a0a583c3e6f3",
   "metadata": {},
   "outputs": [
    {
     "data": {
      "text/plain": [
       "(571, 2)"
      ]
     },
     "execution_count": 109,
     "metadata": {},
     "output_type": "execute_result"
    }
   ],
   "source": [
    "X_train.shape"
   ]
  },
  {
   "cell_type": "code",
   "execution_count": 110,
   "id": "37318dbb-8c21-4ece-b44f-7c340377eb4c",
   "metadata": {},
   "outputs": [
    {
     "name": "stdout",
     "output_type": "stream",
     "text": [
      "Accuracy score: 0.6293706293706294\n"
     ]
    }
   ],
   "source": [
    "model = DecisionTreeClassifier()\n",
    "model.fit(X_train, y_train)\n",
    "pred = model.predict(X_test)\n",
    "score = accuracy_score(y_test, pred)\n",
    "print(\"Accuracy score:\", score)"
   ]
  },
  {
   "cell_type": "code",
   "execution_count": 111,
   "id": "be53ac12-47b0-4cfe-9a42-b679ca493215",
   "metadata": {},
   "outputs": [
    {
     "data": {
      "text/plain": [
       "0.6274843505477308"
      ]
     },
     "execution_count": 111,
     "metadata": {},
     "output_type": "execute_result"
    }
   ],
   "source": [
    "clf = DecisionTreeClassifier()\n",
    "np.mean(cross_val_score(clf, X, y, scoring='accuracy', cv=10))"
   ]
  },
  {
   "cell_type": "code",
   "execution_count": 112,
   "id": "d0257656-40f4-4893-9030-02c7230ddb98",
   "metadata": {},
   "outputs": [],
   "source": [
    "age_discretizer = KBinsDiscretizer(n_bins=15, strategy='quantile', encode='ordinal')\n",
    "fare_discretizer = KBinsDiscretizer(n_bins=15, strategy='quantile', encode='ordinal')"
   ]
  },
  {
   "cell_type": "code",
   "execution_count": 113,
   "id": "e7b18a0e-c054-4e6f-bbcc-0b3fee81e688",
   "metadata": {},
   "outputs": [],
   "source": [
    "trnsf = ColumnTransformer(transformers=[\n",
    "    ('first', age_discretizer, [0]),\n",
    "    ('second', fare_discretizer, [1])\n",
    "])"
   ]
  },
  {
   "cell_type": "code",
   "execution_count": 114,
   "id": "00625e2b-6f8b-469a-9341-32eb1b65a1c6",
   "metadata": {},
   "outputs": [],
   "source": [
    "X_train_trnsf = trnsf.fit_transform(X_train)\n",
    "X_test_trnsf = trnsf.transform(X_test)"
   ]
  },
  {
   "cell_type": "code",
   "execution_count": 115,
   "id": "fe7c03f8-29da-4684-a390-d0e2728f9abd",
   "metadata": {},
   "outputs": [
    {
     "data": {
      "text/plain": [
       "array([15])"
      ]
     },
     "execution_count": 115,
     "metadata": {},
     "output_type": "execute_result"
    }
   ],
   "source": [
    "trnsf.named_transformers_['first'].n_bins_"
   ]
  },
  {
   "cell_type": "code",
   "execution_count": 116,
   "id": "fd596a92-e5b1-4836-b042-1b461035b7d0",
   "metadata": {},
   "outputs": [
    {
     "data": {
      "text/html": [
       "<div>\n",
       "<style scoped>\n",
       "    .dataframe tbody tr th:only-of-type {\n",
       "        vertical-align: middle;\n",
       "    }\n",
       "\n",
       "    .dataframe tbody tr th {\n",
       "        vertical-align: top;\n",
       "    }\n",
       "\n",
       "    .dataframe thead th {\n",
       "        text-align: right;\n",
       "    }\n",
       "</style>\n",
       "<table border=\"1\" class=\"dataframe\">\n",
       "  <thead>\n",
       "    <tr style=\"text-align: right;\">\n",
       "      <th></th>\n",
       "      <th>Age</th>\n",
       "      <th>Fare</th>\n",
       "      <th>Age_transf</th>\n",
       "      <th>Fare_transf</th>\n",
       "    </tr>\n",
       "  </thead>\n",
       "  <tbody>\n",
       "    <tr>\n",
       "      <th>328</th>\n",
       "      <td>31.0</td>\n",
       "      <td>20.5250</td>\n",
       "      <td>8.0</td>\n",
       "      <td>8.0</td>\n",
       "    </tr>\n",
       "    <tr>\n",
       "      <th>73</th>\n",
       "      <td>26.0</td>\n",
       "      <td>14.4542</td>\n",
       "      <td>6.0</td>\n",
       "      <td>7.0</td>\n",
       "    </tr>\n",
       "    <tr>\n",
       "      <th>253</th>\n",
       "      <td>30.0</td>\n",
       "      <td>16.1000</td>\n",
       "      <td>8.0</td>\n",
       "      <td>7.0</td>\n",
       "    </tr>\n",
       "    <tr>\n",
       "      <th>719</th>\n",
       "      <td>33.0</td>\n",
       "      <td>7.7750</td>\n",
       "      <td>9.0</td>\n",
       "      <td>2.0</td>\n",
       "    </tr>\n",
       "    <tr>\n",
       "      <th>666</th>\n",
       "      <td>25.0</td>\n",
       "      <td>13.0000</td>\n",
       "      <td>6.0</td>\n",
       "      <td>6.0</td>\n",
       "    </tr>\n",
       "    <tr>\n",
       "      <th>...</th>\n",
       "      <td>...</td>\n",
       "      <td>...</td>\n",
       "      <td>...</td>\n",
       "      <td>...</td>\n",
       "    </tr>\n",
       "    <tr>\n",
       "      <th>92</th>\n",
       "      <td>46.0</td>\n",
       "      <td>61.1750</td>\n",
       "      <td>12.0</td>\n",
       "      <td>12.0</td>\n",
       "    </tr>\n",
       "    <tr>\n",
       "      <th>134</th>\n",
       "      <td>25.0</td>\n",
       "      <td>13.0000</td>\n",
       "      <td>6.0</td>\n",
       "      <td>6.0</td>\n",
       "    </tr>\n",
       "    <tr>\n",
       "      <th>337</th>\n",
       "      <td>41.0</td>\n",
       "      <td>134.5000</td>\n",
       "      <td>11.0</td>\n",
       "      <td>14.0</td>\n",
       "    </tr>\n",
       "    <tr>\n",
       "      <th>548</th>\n",
       "      <td>33.0</td>\n",
       "      <td>20.5250</td>\n",
       "      <td>9.0</td>\n",
       "      <td>8.0</td>\n",
       "    </tr>\n",
       "    <tr>\n",
       "      <th>130</th>\n",
       "      <td>33.0</td>\n",
       "      <td>7.8958</td>\n",
       "      <td>9.0</td>\n",
       "      <td>3.0</td>\n",
       "    </tr>\n",
       "  </tbody>\n",
       "</table>\n",
       "<p>571 rows × 4 columns</p>\n",
       "</div>"
      ],
      "text/plain": [
       "      Age      Fare  Age_transf  Fare_transf\n",
       "328  31.0   20.5250         8.0          8.0\n",
       "73   26.0   14.4542         6.0          7.0\n",
       "253  30.0   16.1000         8.0          7.0\n",
       "719  33.0    7.7750         9.0          2.0\n",
       "666  25.0   13.0000         6.0          6.0\n",
       "..    ...       ...         ...          ...\n",
       "92   46.0   61.1750        12.0         12.0\n",
       "134  25.0   13.0000         6.0          6.0\n",
       "337  41.0  134.5000        11.0         14.0\n",
       "548  33.0   20.5250         9.0          8.0\n",
       "130  33.0    7.8958         9.0          3.0\n",
       "\n",
       "[571 rows x 4 columns]"
      ]
     },
     "execution_count": 116,
     "metadata": {},
     "output_type": "execute_result"
    }
   ],
   "source": [
    "output = ({\n",
    "    'Age': X_train['Age'],\n",
    "    'Fare': X_train['Fare'],\n",
    "    'Age_transf': X_train_trnsf[:, 0],\n",
    "    'Fare_transf': X_train_trnsf[:, 1]\n",
    "})\n",
    "\n",
    "result = pd.DataFrame(output)\n",
    "result"
   ]
  },
  {
   "cell_type": "code",
   "execution_count": 117,
   "id": "6ce19a2b-2aaa-4a82-a97c-8ace50f544e4",
   "metadata": {},
   "outputs": [
    {
     "name": "stdout",
     "output_type": "stream",
     "text": [
      "Accuracy score: 0.6363636363636364\n"
     ]
    }
   ],
   "source": [
    "# using transformed columns to make predictions\n",
    "clf = DecisionTreeClassifier()\n",
    "clf.fit(X_train_trnsf, y_train)\n",
    "preds = clf.predict(X_test_trnsf)\n",
    "score = accuracy_score(y_test, preds)\n",
    "print(\"Accuracy score:\", score)"
   ]
  },
  {
   "cell_type": "markdown",
   "id": "9718c42e-b897-4133-b2b9-a28cf5c3c201",
   "metadata": {},
   "source": [
    "Performance has improved slightly this time."
   ]
  },
  {
   "cell_type": "code",
   "execution_count": null,
   "id": "4d79c0a3-2471-4450-bbf3-531f1d1ea3a5",
   "metadata": {},
   "outputs": [],
   "source": []
  }
 ],
 "metadata": {
  "kernelspec": {
   "display_name": "Python 3 (ipykernel)",
   "language": "python",
   "name": "python3"
  },
  "language_info": {
   "codemirror_mode": {
    "name": "ipython",
    "version": 3
   },
   "file_extension": ".py",
   "mimetype": "text/x-python",
   "name": "python",
   "nbconvert_exporter": "python",
   "pygments_lexer": "ipython3",
   "version": "3.12.4"
  }
 },
 "nbformat": 4,
 "nbformat_minor": 5
}
