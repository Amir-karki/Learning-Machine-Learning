{
 "cells": [
  {
   "cell_type": "code",
   "execution_count": null,
   "id": "2fb8229e-5b57-44da-a317-f5817bf69741",
   "metadata": {},
   "outputs": [],
   "source": [
    "import numpy as np\n",
    "import pandas as pd\n",
    "from sklearn.datasets import fetch_california_housing\n",
    "from sklearn.model_selection import train_test_split, cross_val_score, KFold, GridSearchCV\n",
    "from sklearn.tree import DecisionTreeRegressor\n",
    "from sklearn.metrics import r2_score"
   ]
  },
  {
   "cell_type": "code",
   "execution_count": null,
   "id": "f9ada6b2-7ecc-4bc9-949e-10abd5fe02d7",
   "metadata": {},
   "outputs": [],
   "source": [
    "california_housing = fetch_california_housing()"
   ]
  },
  {
   "cell_type": "code",
   "execution_count": null,
   "id": "93af9622-7c24-4354-8d51-3c8cb48e6bb6",
   "metadata": {},
   "outputs": [],
   "source": [
    "california_housing"
   ]
  },
  {
   "cell_type": "code",
   "execution_count": null,
   "id": "4c249b30-4b23-4f21-92a1-39aa0d1b58fd",
   "metadata": {},
   "outputs": [],
   "source": [
    "X = california_housing.data\n",
    "y = california_housing.target\n",
    "columns = california_housing.feature_names"
   ]
  },
  {
   "cell_type": "code",
   "execution_count": null,
   "id": "36c3b509-aa80-4ea8-b160-db0ab1752553",
   "metadata": {},
   "outputs": [],
   "source": [
    "df = pd.DataFrame(X, columns=columns)\n",
    "df['MedHouseVal'] = california_housing.target\n",
    "df"
   ]
  },
  {
   "cell_type": "code",
   "execution_count": null,
   "id": "923c4397-087e-4a20-918e-a97c68045363",
   "metadata": {},
   "outputs": [],
   "source": [
    "df.isnull().sum()"
   ]
  },
  {
   "cell_type": "code",
   "execution_count": null,
   "id": "9fb35ab6-701d-40f8-bc1e-9308561ef7b6",
   "metadata": {},
   "outputs": [],
   "source": [
    "X_train, X_test, y_train, y_test = train_test_split(X, y, test_size=0.2, random_state=41)"
   ]
  },
  {
   "cell_type": "code",
   "execution_count": null,
   "id": "0c11bb91-d2a7-464b-834d-3ff77e33bd30",
   "metadata": {},
   "outputs": [],
   "source": [
    "model = DecisionTreeRegressor(max_depth=11)\n",
    "model.fit(X_train, y_train)"
   ]
  },
  {
   "cell_type": "code",
   "execution_count": null,
   "id": "6e06fcae-59a3-4f86-97e1-27f727dcdfdf",
   "metadata": {},
   "outputs": [],
   "source": [
    "pred = model.predict(X_test)\n",
    "print(r2_score(y_test, pred))"
   ]
  },
  {
   "cell_type": "code",
   "execution_count": null,
   "id": "214c000d-406c-4873-ba0a-8ac39e6b1c24",
   "metadata": {},
   "outputs": [],
   "source": [
    "cross_validation_scores = cross_val_score(model, X, y, cv=8)\n",
    "print(cross_validation_scores)"
   ]
  },
  {
   "cell_type": "code",
   "execution_count": null,
   "id": "729ec873-fd54-456e-8463-ada913062cde",
   "metadata": {},
   "outputs": [],
   "source": [
    "avg_score = (cross_validation_scores.mean())\n",
    "print(avg_score)"
   ]
  },
  {
   "cell_type": "markdown",
   "id": "9f4efc99-f851-45c9-8e5d-f4ca4310710c",
   "metadata": {},
   "source": [
    "#### HyperParameter Tuning\n",
    "##### As we can see that our model is not performing well, so let's tune some parameters to better improve the performance and accuracy of the model."
   ]
  },
  {
   "cell_type": "code",
   "execution_count": null,
   "id": "4eed5a49-5531-4257-ab24-910537f1d3cb",
   "metadata": {},
   "outputs": [],
   "source": [
    "param_grid = {\n",
    "    'max_depth': [2, 6, 10, 14, 20, 24, 30, None],\n",
    "    'criterion': ['squared_error', 'friedman_mse', 'absolute_error'],\n",
    "    'max_features': [0.25, 0.5, 1.0],\n",
    "    'min_samples_split': [0.25, 0.5, 0.75]\n",
    "}"
   ]
  },
  {
   "cell_type": "code",
   "execution_count": null,
   "id": "56c504c4-7a10-48d3-8bc3-393a47a0b4e9",
   "metadata": {},
   "outputs": [],
   "source": [
    "regression = GridSearchCV(DecisionTreeRegressor(), param_grid=param_grid, verbose=2)\n",
    "regression.fit(X_train, y_train)"
   ]
  },
  {
   "cell_type": "code",
   "execution_count": null,
   "id": "1e183436-ec75-44a4-94c4-ee5a8cba745f",
   "metadata": {},
   "outputs": [],
   "source": [
    "print(regression.best_score_)"
   ]
  },
  {
   "cell_type": "code",
   "execution_count": null,
   "id": "2aa4949a-2f01-4388-aeac-80f68749a76e",
   "metadata": {},
   "outputs": [],
   "source": []
  }
 ],
 "metadata": {
  "kernelspec": {
   "display_name": "Python 3 (ipykernel)",
   "language": "python",
   "name": "python3"
  },
  "language_info": {
   "codemirror_mode": {
    "name": "ipython",
    "version": 3
   },
   "file_extension": ".py",
   "mimetype": "text/x-python",
   "name": "python",
   "nbconvert_exporter": "python",
   "pygments_lexer": "ipython3",
   "version": "3.12.4"
  }
 },
 "nbformat": 4,
 "nbformat_minor": 5
}
